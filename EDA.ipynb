{
 "cells": [
  {
   "cell_type": "code",
   "execution_count": 89,
   "metadata": {},
   "outputs": [],
   "source": [
    "import pandas as pd\n",
    "import matplotlib.pyplot as plt\n",
    "import numpy as np\n",
    "import seaborn as sns\n"
   ]
  },
  {
   "cell_type": "code",
   "execution_count": 5,
   "metadata": {},
   "outputs": [],
   "source": [
    "sno_df = pd.read_csv('data/Hoosier_pass_SNOTEL_1980-2021.csv')"
   ]
  },
  {
   "cell_type": "code",
   "execution_count": 13,
   "metadata": {},
   "outputs": [],
   "source": [
    "sno_df['datetime'] = pd.to_datetime(sno_df['Date'])"
   ]
  },
  {
   "cell_type": "code",
   "execution_count": 16,
   "metadata": {},
   "outputs": [],
   "source": [
    "sno_df.set_index('datetime', inplace=True)"
   ]
  },
  {
   "cell_type": "code",
   "execution_count": 17,
   "metadata": {},
   "outputs": [
    {
     "name": "stdout",
     "output_type": "stream",
     "text": [
      "<class 'pandas.core.frame.DataFrame'>\n",
      "DatetimeIndex: 14873 entries, 1980-07-31 to 2021-04-19\n",
      "Data columns (total 7 columns):\n",
      " #   Column                                               Non-Null Count  Dtype  \n",
      "---  ------                                               --------------  -----  \n",
      " 0   Date                                                 14873 non-null  object \n",
      " 1   Snow Water Equivalent (in) Start of Day Values       14873 non-null  float64\n",
      " 2   Precipitation Accumulation (in) Start of Day Values  14853 non-null  float64\n",
      " 3   Air Temperature Maximum (degF)                       12796 non-null  float64\n",
      " 4   Air Temperature Minimum (degF)                       12770 non-null  float64\n",
      " 5   Air Temperature Average (degF)                       12787 non-null  float64\n",
      " 6   Precipitation Increment (in)                         14849 non-null  float64\n",
      "dtypes: float64(6), object(1)\n",
      "memory usage: 929.6+ KB\n"
     ]
    }
   ],
   "source": [
    "sno_df.info()"
   ]
  },
  {
   "cell_type": "code",
   "execution_count": 19,
   "metadata": {},
   "outputs": [],
   "source": [
    "sno_df = sno_df['1990':'2021']"
   ]
  },
  {
   "cell_type": "code",
   "execution_count": 22,
   "metadata": {},
   "outputs": [],
   "source": [
    "wdf_one = pd.read_csv('data/1_BLUABLCO_CFS_1990-2021.csv')"
   ]
  },
  {
   "cell_type": "code",
   "execution_count": 23,
   "metadata": {},
   "outputs": [
    {
     "name": "stdout",
     "output_type": "stream",
     "text": [
      "<class 'pandas.core.frame.DataFrame'>\n",
      "RangeIndex: 11431 entries, 0 to 11430\n",
      "Data columns (total 7 columns):\n",
      " #   Column                    Non-Null Count  Dtype  \n",
      "---  ------                    --------------  -----  \n",
      " 0   Abbrev                    11431 non-null  object \n",
      " 1   Meas Date                 11431 non-null  object \n",
      " 2   Streamflow Value          11431 non-null  float64\n",
      " 3   Streamflow Meas Units     11431 non-null  object \n",
      " 4   Streamflow Review Status  11431 non-null  object \n",
      " 5   Streamflow Data Source    11431 non-null  object \n",
      " 6   Unnamed: 6                0 non-null      float64\n",
      "dtypes: float64(2), object(5)\n",
      "memory usage: 625.3+ KB\n"
     ]
    }
   ],
   "source": [
    "water_df_one.info()"
   ]
  },
  {
   "cell_type": "code",
   "execution_count": 26,
   "metadata": {},
   "outputs": [
    {
     "data": {
      "text/html": [
       "<div>\n",
       "<style scoped>\n",
       "    .dataframe tbody tr th:only-of-type {\n",
       "        vertical-align: middle;\n",
       "    }\n",
       "\n",
       "    .dataframe tbody tr th {\n",
       "        vertical-align: top;\n",
       "    }\n",
       "\n",
       "    .dataframe thead th {\n",
       "        text-align: right;\n",
       "    }\n",
       "</style>\n",
       "<table border=\"1\" class=\"dataframe\">\n",
       "  <thead>\n",
       "    <tr style=\"text-align: right;\">\n",
       "      <th></th>\n",
       "      <th>Abbrev</th>\n",
       "      <th>Meas Date</th>\n",
       "      <th>Streamflow Value</th>\n",
       "      <th>Streamflow Meas Units</th>\n",
       "      <th>Streamflow Review Status</th>\n",
       "      <th>Streamflow Data Source</th>\n",
       "      <th>Unnamed: 6</th>\n",
       "    </tr>\n",
       "  </thead>\n",
       "  <tbody>\n",
       "    <tr>\n",
       "      <th>0</th>\n",
       "      <td>BLUABLCO</td>\n",
       "      <td>01/01/1990</td>\n",
       "      <td>6.5</td>\n",
       "      <td>cfs</td>\n",
       "      <td>A</td>\n",
       "      <td>USGS</td>\n",
       "      <td>NaN</td>\n",
       "    </tr>\n",
       "    <tr>\n",
       "      <th>1</th>\n",
       "      <td>BLUABLCO</td>\n",
       "      <td>01/02/1990</td>\n",
       "      <td>6.9</td>\n",
       "      <td>cfs</td>\n",
       "      <td>A</td>\n",
       "      <td>USGS</td>\n",
       "      <td>NaN</td>\n",
       "    </tr>\n",
       "    <tr>\n",
       "      <th>2</th>\n",
       "      <td>BLUABLCO</td>\n",
       "      <td>01/03/1990</td>\n",
       "      <td>6.9</td>\n",
       "      <td>cfs</td>\n",
       "      <td>A</td>\n",
       "      <td>USGS</td>\n",
       "      <td>NaN</td>\n",
       "    </tr>\n",
       "    <tr>\n",
       "      <th>3</th>\n",
       "      <td>BLUABLCO</td>\n",
       "      <td>01/04/1990</td>\n",
       "      <td>6.8</td>\n",
       "      <td>cfs</td>\n",
       "      <td>A</td>\n",
       "      <td>USGS</td>\n",
       "      <td>NaN</td>\n",
       "    </tr>\n",
       "    <tr>\n",
       "      <th>4</th>\n",
       "      <td>BLUABLCO</td>\n",
       "      <td>01/05/1990</td>\n",
       "      <td>7.3</td>\n",
       "      <td>cfs</td>\n",
       "      <td>A</td>\n",
       "      <td>USGS</td>\n",
       "      <td>NaN</td>\n",
       "    </tr>\n",
       "  </tbody>\n",
       "</table>\n",
       "</div>"
      ],
      "text/plain": [
       "     Abbrev   Meas Date  Streamflow Value Streamflow Meas Units  \\\n",
       "0  BLUABLCO  01/01/1990               6.5                   cfs   \n",
       "1  BLUABLCO  01/02/1990               6.9                   cfs   \n",
       "2  BLUABLCO  01/03/1990               6.9                   cfs   \n",
       "3  BLUABLCO  01/04/1990               6.8                   cfs   \n",
       "4  BLUABLCO  01/05/1990               7.3                   cfs   \n",
       "\n",
       "  Streamflow Review Status Streamflow Data Source  Unnamed: 6  \n",
       "0                        A                   USGS         NaN  \n",
       "1                        A                   USGS         NaN  \n",
       "2                        A                   USGS         NaN  \n",
       "3                        A                   USGS         NaN  \n",
       "4                        A                   USGS         NaN  "
      ]
     },
     "execution_count": 26,
     "metadata": {},
     "output_type": "execute_result"
    }
   ],
   "source": [
    "wdf_one.head()"
   ]
  },
  {
   "cell_type": "code",
   "execution_count": 28,
   "metadata": {},
   "outputs": [],
   "source": [
    "wdf_one['Meas Date'] = pd.to_datetime(wdf_one['Meas Date'])"
   ]
  },
  {
   "cell_type": "code",
   "execution_count": 29,
   "metadata": {},
   "outputs": [],
   "source": [
    "wdf_one.set_index('Meas Date', inplace=True)"
   ]
  },
  {
   "cell_type": "code",
   "execution_count": 30,
   "metadata": {},
   "outputs": [
    {
     "name": "stdout",
     "output_type": "stream",
     "text": [
      "<class 'pandas.core.frame.DataFrame'>\n",
      "DatetimeIndex: 11431 entries, 1990-01-01 to 2021-04-18\n",
      "Data columns (total 6 columns):\n",
      " #   Column                    Non-Null Count  Dtype  \n",
      "---  ------                    --------------  -----  \n",
      " 0   Abbrev                    11431 non-null  object \n",
      " 1   Streamflow Value          11431 non-null  float64\n",
      " 2   Streamflow Meas Units     11431 non-null  object \n",
      " 3   Streamflow Review Status  11431 non-null  object \n",
      " 4   Streamflow Data Source    11431 non-null  object \n",
      " 5   Unnamed: 6                0 non-null      float64\n",
      "dtypes: float64(2), object(4)\n",
      "memory usage: 625.1+ KB\n"
     ]
    }
   ],
   "source": [
    "wdf_one.info()"
   ]
  },
  {
   "cell_type": "code",
   "execution_count": 32,
   "metadata": {},
   "outputs": [],
   "source": [
    "wdf_one = wdf_one['1990':'2021']"
   ]
  },
  {
   "cell_type": "code",
   "execution_count": 33,
   "metadata": {},
   "outputs": [
    {
     "data": {
      "text/html": [
       "<div>\n",
       "<style scoped>\n",
       "    .dataframe tbody tr th:only-of-type {\n",
       "        vertical-align: middle;\n",
       "    }\n",
       "\n",
       "    .dataframe tbody tr th {\n",
       "        vertical-align: top;\n",
       "    }\n",
       "\n",
       "    .dataframe thead th {\n",
       "        text-align: right;\n",
       "    }\n",
       "</style>\n",
       "<table border=\"1\" class=\"dataframe\">\n",
       "  <thead>\n",
       "    <tr style=\"text-align: right;\">\n",
       "      <th></th>\n",
       "      <th>Abbrev</th>\n",
       "      <th>Streamflow Value</th>\n",
       "      <th>Streamflow Meas Units</th>\n",
       "      <th>Streamflow Review Status</th>\n",
       "      <th>Streamflow Data Source</th>\n",
       "      <th>Unnamed: 6</th>\n",
       "    </tr>\n",
       "    <tr>\n",
       "      <th>Meas Date</th>\n",
       "      <th></th>\n",
       "      <th></th>\n",
       "      <th></th>\n",
       "      <th></th>\n",
       "      <th></th>\n",
       "      <th></th>\n",
       "    </tr>\n",
       "  </thead>\n",
       "  <tbody>\n",
       "    <tr>\n",
       "      <th>1990-01-01</th>\n",
       "      <td>BLUABLCO</td>\n",
       "      <td>6.5</td>\n",
       "      <td>cfs</td>\n",
       "      <td>A</td>\n",
       "      <td>USGS</td>\n",
       "      <td>NaN</td>\n",
       "    </tr>\n",
       "    <tr>\n",
       "      <th>1990-01-02</th>\n",
       "      <td>BLUABLCO</td>\n",
       "      <td>6.9</td>\n",
       "      <td>cfs</td>\n",
       "      <td>A</td>\n",
       "      <td>USGS</td>\n",
       "      <td>NaN</td>\n",
       "    </tr>\n",
       "    <tr>\n",
       "      <th>1990-01-03</th>\n",
       "      <td>BLUABLCO</td>\n",
       "      <td>6.9</td>\n",
       "      <td>cfs</td>\n",
       "      <td>A</td>\n",
       "      <td>USGS</td>\n",
       "      <td>NaN</td>\n",
       "    </tr>\n",
       "    <tr>\n",
       "      <th>1990-01-04</th>\n",
       "      <td>BLUABLCO</td>\n",
       "      <td>6.8</td>\n",
       "      <td>cfs</td>\n",
       "      <td>A</td>\n",
       "      <td>USGS</td>\n",
       "      <td>NaN</td>\n",
       "    </tr>\n",
       "    <tr>\n",
       "      <th>1990-01-05</th>\n",
       "      <td>BLUABLCO</td>\n",
       "      <td>7.3</td>\n",
       "      <td>cfs</td>\n",
       "      <td>A</td>\n",
       "      <td>USGS</td>\n",
       "      <td>NaN</td>\n",
       "    </tr>\n",
       "  </tbody>\n",
       "</table>\n",
       "</div>"
      ],
      "text/plain": [
       "              Abbrev  Streamflow Value Streamflow Meas Units  \\\n",
       "Meas Date                                                      \n",
       "1990-01-01  BLUABLCO               6.5                   cfs   \n",
       "1990-01-02  BLUABLCO               6.9                   cfs   \n",
       "1990-01-03  BLUABLCO               6.9                   cfs   \n",
       "1990-01-04  BLUABLCO               6.8                   cfs   \n",
       "1990-01-05  BLUABLCO               7.3                   cfs   \n",
       "\n",
       "           Streamflow Review Status Streamflow Data Source  Unnamed: 6  \n",
       "Meas Date                                                               \n",
       "1990-01-01                        A                   USGS         NaN  \n",
       "1990-01-02                        A                   USGS         NaN  \n",
       "1990-01-03                        A                   USGS         NaN  \n",
       "1990-01-04                        A                   USGS         NaN  \n",
       "1990-01-05                        A                   USGS         NaN  "
      ]
     },
     "execution_count": 33,
     "metadata": {},
     "output_type": "execute_result"
    }
   ],
   "source": [
    "wdf_one.head()"
   ]
  },
  {
   "cell_type": "code",
   "execution_count": 34,
   "metadata": {},
   "outputs": [
    {
     "data": {
      "text/html": [
       "<div>\n",
       "<style scoped>\n",
       "    .dataframe tbody tr th:only-of-type {\n",
       "        vertical-align: middle;\n",
       "    }\n",
       "\n",
       "    .dataframe tbody tr th {\n",
       "        vertical-align: top;\n",
       "    }\n",
       "\n",
       "    .dataframe thead th {\n",
       "        text-align: right;\n",
       "    }\n",
       "</style>\n",
       "<table border=\"1\" class=\"dataframe\">\n",
       "  <thead>\n",
       "    <tr style=\"text-align: right;\">\n",
       "      <th></th>\n",
       "      <th>Date</th>\n",
       "      <th>Snow Water Equivalent (in) Start of Day Values</th>\n",
       "      <th>Precipitation Accumulation (in) Start of Day Values</th>\n",
       "      <th>Air Temperature Maximum (degF)</th>\n",
       "      <th>Air Temperature Minimum (degF)</th>\n",
       "      <th>Air Temperature Average (degF)</th>\n",
       "      <th>Precipitation Increment (in)</th>\n",
       "    </tr>\n",
       "    <tr>\n",
       "      <th>datetime</th>\n",
       "      <th></th>\n",
       "      <th></th>\n",
       "      <th></th>\n",
       "      <th></th>\n",
       "      <th></th>\n",
       "      <th></th>\n",
       "      <th></th>\n",
       "    </tr>\n",
       "  </thead>\n",
       "  <tbody>\n",
       "    <tr>\n",
       "      <th>1990-01-01</th>\n",
       "      <td>1990-01-01</td>\n",
       "      <td>4.8</td>\n",
       "      <td>5.6</td>\n",
       "      <td>35.0</td>\n",
       "      <td>8.0</td>\n",
       "      <td>19.0</td>\n",
       "      <td>0.1</td>\n",
       "    </tr>\n",
       "    <tr>\n",
       "      <th>1990-01-02</th>\n",
       "      <td>1990-01-02</td>\n",
       "      <td>4.8</td>\n",
       "      <td>5.7</td>\n",
       "      <td>28.0</td>\n",
       "      <td>4.0</td>\n",
       "      <td>16.0</td>\n",
       "      <td>0.0</td>\n",
       "    </tr>\n",
       "    <tr>\n",
       "      <th>1990-01-03</th>\n",
       "      <td>1990-01-03</td>\n",
       "      <td>4.8</td>\n",
       "      <td>5.7</td>\n",
       "      <td>13.0</td>\n",
       "      <td>-9.0</td>\n",
       "      <td>2.0</td>\n",
       "      <td>0.0</td>\n",
       "    </tr>\n",
       "    <tr>\n",
       "      <th>1990-01-04</th>\n",
       "      <td>1990-01-04</td>\n",
       "      <td>4.8</td>\n",
       "      <td>5.7</td>\n",
       "      <td>11.0</td>\n",
       "      <td>-9.0</td>\n",
       "      <td>-2.0</td>\n",
       "      <td>0.0</td>\n",
       "    </tr>\n",
       "    <tr>\n",
       "      <th>1990-01-05</th>\n",
       "      <td>1990-01-05</td>\n",
       "      <td>4.8</td>\n",
       "      <td>5.7</td>\n",
       "      <td>12.0</td>\n",
       "      <td>-3.0</td>\n",
       "      <td>1.0</td>\n",
       "      <td>0.0</td>\n",
       "    </tr>\n",
       "  </tbody>\n",
       "</table>\n",
       "</div>"
      ],
      "text/plain": [
       "                  Date  Snow Water Equivalent (in) Start of Day Values  \\\n",
       "datetime                                                                 \n",
       "1990-01-01  1990-01-01                                             4.8   \n",
       "1990-01-02  1990-01-02                                             4.8   \n",
       "1990-01-03  1990-01-03                                             4.8   \n",
       "1990-01-04  1990-01-04                                             4.8   \n",
       "1990-01-05  1990-01-05                                             4.8   \n",
       "\n",
       "            Precipitation Accumulation (in) Start of Day Values  \\\n",
       "datetime                                                          \n",
       "1990-01-01                                                5.6     \n",
       "1990-01-02                                                5.7     \n",
       "1990-01-03                                                5.7     \n",
       "1990-01-04                                                5.7     \n",
       "1990-01-05                                                5.7     \n",
       "\n",
       "            Air Temperature Maximum (degF)  Air Temperature Minimum (degF)  \\\n",
       "datetime                                                                     \n",
       "1990-01-01                            35.0                             8.0   \n",
       "1990-01-02                            28.0                             4.0   \n",
       "1990-01-03                            13.0                            -9.0   \n",
       "1990-01-04                            11.0                            -9.0   \n",
       "1990-01-05                            12.0                            -3.0   \n",
       "\n",
       "            Air Temperature Average (degF)  Precipitation Increment (in)  \n",
       "datetime                                                                  \n",
       "1990-01-01                            19.0                           0.1  \n",
       "1990-01-02                            16.0                           0.0  \n",
       "1990-01-03                             2.0                           0.0  \n",
       "1990-01-04                            -2.0                           0.0  \n",
       "1990-01-05                             1.0                           0.0  "
      ]
     },
     "execution_count": 34,
     "metadata": {},
     "output_type": "execute_result"
    }
   ],
   "source": [
    "sno_df.head()"
   ]
  },
  {
   "cell_type": "code",
   "execution_count": 42,
   "metadata": {},
   "outputs": [],
   "source": [
    "comb_df = pd.concat([sno_df, wdf_one], axis=1, join=\"inner\")"
   ]
  },
  {
   "cell_type": "code",
   "execution_count": 43,
   "metadata": {},
   "outputs": [],
   "source": [
    "comb_df.drop(['Date','Unnamed: 6'], axis=1, inplace=True)"
   ]
  },
  {
   "cell_type": "code",
   "execution_count": 44,
   "metadata": {},
   "outputs": [
    {
     "name": "stdout",
     "output_type": "stream",
     "text": [
      "<class 'pandas.core.frame.DataFrame'>\n",
      "DatetimeIndex: 11431 entries, 1990-01-01 to 2021-04-18\n",
      "Freq: D\n",
      "Data columns (total 11 columns):\n",
      " #   Column                                               Non-Null Count  Dtype  \n",
      "---  ------                                               --------------  -----  \n",
      " 0   Snow Water Equivalent (in) Start of Day Values       11431 non-null  float64\n",
      " 1   Precipitation Accumulation (in) Start of Day Values  11431 non-null  float64\n",
      " 2   Air Temperature Maximum (degF)                       11275 non-null  float64\n",
      " 3   Air Temperature Minimum (degF)                       11249 non-null  float64\n",
      " 4   Air Temperature Average (degF)                       11266 non-null  float64\n",
      " 5   Precipitation Increment (in)                         11429 non-null  float64\n",
      " 6   Abbrev                                               11431 non-null  object \n",
      " 7   Streamflow Value                                     11431 non-null  float64\n",
      " 8   Streamflow Meas Units                                11431 non-null  object \n",
      " 9   Streamflow Review Status                             11431 non-null  object \n",
      " 10  Streamflow Data Source                               11431 non-null  object \n",
      "dtypes: float64(7), object(4)\n",
      "memory usage: 1.0+ MB\n"
     ]
    }
   ],
   "source": [
    "comb_df.info()"
   ]
  },
  {
   "cell_type": "code",
   "execution_count": 45,
   "metadata": {},
   "outputs": [
    {
     "data": {
      "text/html": [
       "<div>\n",
       "<style scoped>\n",
       "    .dataframe tbody tr th:only-of-type {\n",
       "        vertical-align: middle;\n",
       "    }\n",
       "\n",
       "    .dataframe tbody tr th {\n",
       "        vertical-align: top;\n",
       "    }\n",
       "\n",
       "    .dataframe thead th {\n",
       "        text-align: right;\n",
       "    }\n",
       "</style>\n",
       "<table border=\"1\" class=\"dataframe\">\n",
       "  <thead>\n",
       "    <tr style=\"text-align: right;\">\n",
       "      <th></th>\n",
       "      <th>Snow Water Equivalent (in) Start of Day Values</th>\n",
       "      <th>Precipitation Accumulation (in) Start of Day Values</th>\n",
       "      <th>Air Temperature Maximum (degF)</th>\n",
       "      <th>Air Temperature Minimum (degF)</th>\n",
       "      <th>Air Temperature Average (degF)</th>\n",
       "      <th>Precipitation Increment (in)</th>\n",
       "      <th>Abbrev</th>\n",
       "      <th>Streamflow Value</th>\n",
       "      <th>Streamflow Meas Units</th>\n",
       "      <th>Streamflow Review Status</th>\n",
       "      <th>Streamflow Data Source</th>\n",
       "    </tr>\n",
       "  </thead>\n",
       "  <tbody>\n",
       "    <tr>\n",
       "      <th>1990-01-01</th>\n",
       "      <td>4.8</td>\n",
       "      <td>5.6</td>\n",
       "      <td>35.0</td>\n",
       "      <td>8.0</td>\n",
       "      <td>19.0</td>\n",
       "      <td>0.1</td>\n",
       "      <td>BLUABLCO</td>\n",
       "      <td>6.5</td>\n",
       "      <td>cfs</td>\n",
       "      <td>A</td>\n",
       "      <td>USGS</td>\n",
       "    </tr>\n",
       "    <tr>\n",
       "      <th>1990-01-02</th>\n",
       "      <td>4.8</td>\n",
       "      <td>5.7</td>\n",
       "      <td>28.0</td>\n",
       "      <td>4.0</td>\n",
       "      <td>16.0</td>\n",
       "      <td>0.0</td>\n",
       "      <td>BLUABLCO</td>\n",
       "      <td>6.9</td>\n",
       "      <td>cfs</td>\n",
       "      <td>A</td>\n",
       "      <td>USGS</td>\n",
       "    </tr>\n",
       "    <tr>\n",
       "      <th>1990-01-03</th>\n",
       "      <td>4.8</td>\n",
       "      <td>5.7</td>\n",
       "      <td>13.0</td>\n",
       "      <td>-9.0</td>\n",
       "      <td>2.0</td>\n",
       "      <td>0.0</td>\n",
       "      <td>BLUABLCO</td>\n",
       "      <td>6.9</td>\n",
       "      <td>cfs</td>\n",
       "      <td>A</td>\n",
       "      <td>USGS</td>\n",
       "    </tr>\n",
       "    <tr>\n",
       "      <th>1990-01-04</th>\n",
       "      <td>4.8</td>\n",
       "      <td>5.7</td>\n",
       "      <td>11.0</td>\n",
       "      <td>-9.0</td>\n",
       "      <td>-2.0</td>\n",
       "      <td>0.0</td>\n",
       "      <td>BLUABLCO</td>\n",
       "      <td>6.8</td>\n",
       "      <td>cfs</td>\n",
       "      <td>A</td>\n",
       "      <td>USGS</td>\n",
       "    </tr>\n",
       "    <tr>\n",
       "      <th>1990-01-05</th>\n",
       "      <td>4.8</td>\n",
       "      <td>5.7</td>\n",
       "      <td>12.0</td>\n",
       "      <td>-3.0</td>\n",
       "      <td>1.0</td>\n",
       "      <td>0.0</td>\n",
       "      <td>BLUABLCO</td>\n",
       "      <td>7.3</td>\n",
       "      <td>cfs</td>\n",
       "      <td>A</td>\n",
       "      <td>USGS</td>\n",
       "    </tr>\n",
       "  </tbody>\n",
       "</table>\n",
       "</div>"
      ],
      "text/plain": [
       "            Snow Water Equivalent (in) Start of Day Values  \\\n",
       "1990-01-01                                             4.8   \n",
       "1990-01-02                                             4.8   \n",
       "1990-01-03                                             4.8   \n",
       "1990-01-04                                             4.8   \n",
       "1990-01-05                                             4.8   \n",
       "\n",
       "            Precipitation Accumulation (in) Start of Day Values  \\\n",
       "1990-01-01                                                5.6     \n",
       "1990-01-02                                                5.7     \n",
       "1990-01-03                                                5.7     \n",
       "1990-01-04                                                5.7     \n",
       "1990-01-05                                                5.7     \n",
       "\n",
       "            Air Temperature Maximum (degF)  Air Temperature Minimum (degF)  \\\n",
       "1990-01-01                            35.0                             8.0   \n",
       "1990-01-02                            28.0                             4.0   \n",
       "1990-01-03                            13.0                            -9.0   \n",
       "1990-01-04                            11.0                            -9.0   \n",
       "1990-01-05                            12.0                            -3.0   \n",
       "\n",
       "            Air Temperature Average (degF)  Precipitation Increment (in)  \\\n",
       "1990-01-01                            19.0                           0.1   \n",
       "1990-01-02                            16.0                           0.0   \n",
       "1990-01-03                             2.0                           0.0   \n",
       "1990-01-04                            -2.0                           0.0   \n",
       "1990-01-05                             1.0                           0.0   \n",
       "\n",
       "              Abbrev  Streamflow Value Streamflow Meas Units  \\\n",
       "1990-01-01  BLUABLCO               6.5                   cfs   \n",
       "1990-01-02  BLUABLCO               6.9                   cfs   \n",
       "1990-01-03  BLUABLCO               6.9                   cfs   \n",
       "1990-01-04  BLUABLCO               6.8                   cfs   \n",
       "1990-01-05  BLUABLCO               7.3                   cfs   \n",
       "\n",
       "           Streamflow Review Status Streamflow Data Source  \n",
       "1990-01-01                        A                   USGS  \n",
       "1990-01-02                        A                   USGS  \n",
       "1990-01-03                        A                   USGS  \n",
       "1990-01-04                        A                   USGS  \n",
       "1990-01-05                        A                   USGS  "
      ]
     },
     "execution_count": 45,
     "metadata": {},
     "output_type": "execute_result"
    }
   ],
   "source": [
    "comb_df.head()"
   ]
  },
  {
   "cell_type": "code",
   "execution_count": 46,
   "metadata": {},
   "outputs": [],
   "source": [
    "comb_df.drop(['Abbrev', 'Streamflow Meas Units',], axis=1, inplace=True)"
   ]
  },
  {
   "cell_type": "code",
   "execution_count": 47,
   "metadata": {},
   "outputs": [
    {
     "data": {
      "text/plain": [
       "<AxesSubplot:>"
      ]
     },
     "execution_count": 47,
     "metadata": {},
     "output_type": "execute_result"
    },
    {
     "data": {
      "image/png": "[encoded data removed]",
      "text/plain": [
       "<Figure size 432x288 with 1 Axes>"
      ]
     },
     "metadata": {
      "needs_background": "light"
     },
     "output_type": "display_data"
    }
   ],
   "source": [
    "comb_df['Streamflow Review Status'].hist()"
   ]
  },
  {
   "cell_type": "code",
   "execution_count": 48,
   "metadata": {},
   "outputs": [],
   "source": [
    "comb_df.drop('Streamflow Review Status', axis=1, inplace=True)"
   ]
  },
  {
   "cell_type": "code",
   "execution_count": 49,
   "metadata": {},
   "outputs": [],
   "source": [
    "df = comb_df.copy()"
   ]
  },
  {
   "cell_type": "code",
   "execution_count": 55,
   "metadata": {},
   "outputs": [
    {
     "name": "stdout",
     "output_type": "stream",
     "text": [
      "<class 'pandas.core.frame.DataFrame'>\n",
      "DatetimeIndex: 11431 entries, 1990-01-01 to 2021-04-18\n",
      "Freq: D\n",
      "Data columns (total 8 columns):\n",
      " #   Column                                               Non-Null Count  Dtype  \n",
      "---  ------                                               --------------  -----  \n",
      " 0   Snow Water Equivalent (in) Start of Day Values       11431 non-null  float64\n",
      " 1   Precipitation Accumulation (in) Start of Day Values  11431 non-null  float64\n",
      " 2   Air Temperature Maximum (degF)                       11275 non-null  float64\n",
      " 3   Air Temperature Minimum (degF)                       11249 non-null  float64\n",
      " 4   Air Temperature Average (degF)                       11266 non-null  float64\n",
      " 5   Precipitation Increment (in)                         11429 non-null  float64\n",
      " 6   Streamflow Value                                     11431 non-null  float64\n",
      " 7   Streamflow Data Source                               11431 non-null  object \n",
      "dtypes: float64(7), object(1)\n",
      "memory usage: 803.7+ KB\n"
     ]
    }
   ],
   "source": [
    "df.info()"
   ]
  },
  {
   "cell_type": "code",
   "execution_count": 65,
   "metadata": {},
   "outputs": [],
   "source": [
    "df.drop('Streamflow Data Source', axis=1, inplace=True)"
   ]
  },
  {
   "cell_type": "code",
   "execution_count": 70,
   "metadata": {},
   "outputs": [
    {
     "name": "stdout",
     "output_type": "stream",
     "text": [
      "<class 'pandas.core.frame.DataFrame'>\n",
      "DatetimeIndex: 11431 entries, 1990-01-01 to 2021-04-18\n",
      "Freq: D\n",
      "Data columns (total 7 columns):\n",
      " #   Column                                               Non-Null Count  Dtype  \n",
      "---  ------                                               --------------  -----  \n",
      " 0   Snow Water Equivalent (in) Start of Day Values       11431 non-null  float64\n",
      " 1   Precipitation Accumulation (in) Start of Day Values  11431 non-null  float64\n",
      " 2   Air Temperature Maximum (degF)                       11275 non-null  float64\n",
      " 3   Air Temperature Minimum (degF)                       11249 non-null  float64\n",
      " 4   Air Temperature Average (degF)                       11266 non-null  float64\n",
      " 5   Precipitation Increment (in)                         11429 non-null  float64\n",
      " 6   Streamflow Value                                     11431 non-null  float64\n",
      "dtypes: float64(7)\n",
      "memory usage: 714.4 KB\n"
     ]
    }
   ],
   "source": [
    "df.info()"
   ]
  },
  {
   "cell_type": "code",
   "execution_count": 82,
   "metadata": {},
   "outputs": [
    {
     "data": {
      "text/plain": [
       "array([6.5 , 6.9 , 6.8 , ..., 8.41, 8.78, 8.75])"
      ]
     },
     "execution_count": 82,
     "metadata": {},
     "output_type": "execute_result"
    }
   ],
   "source": [
    "df['Streamflow Value'].unique()"
   ]
  },
  {
   "cell_type": "code",
   "execution_count": 88,
   "metadata": {},
   "outputs": [
    {
     "data": {
      "text/plain": [
       "<Figure size 1440x1440 with 0 Axes>"
      ]
     },
     "metadata": {},
     "output_type": "display_data"
    },
    {
     "data": {
      "image/png": "[encoded data removed]",
      "text/plain": [
       "<Figure size 432x288 with 9 Axes>"
      ]
     },
     "metadata": {
      "needs_background": "light"
     },
     "output_type": "display_data"
    }
   ],
   "source": [
    "plt.figure(figsize=(20,20))\n",
    "df.diff().hist()\n",
    "plt.tight_layout()"
   ]
  },
  {
   "cell_type": "code",
   "execution_count": 99,
   "metadata": {},
   "outputs": [
    {
     "data": {
      "text/plain": [
       "<AxesSubplot:xlabel='Precipitation Accumulation (in) Start of Day Values'>"
      ]
     },
     "execution_count": 99,
     "metadata": {},
     "output_type": "execute_result"
    },
    {
     "data": {
      "image/png": "[encoded data removed]",
      "text/plain": [
       "<Figure size 432x288 with 1 Axes>"
      ]
     },
     "metadata": {
      "needs_background": "light"
     },
     "output_type": "display_data"
    }
   ],
   "source": [
    "sns.boxplot(df.iloc[:,1])"
   ]
  },
  {
   "cell_type": "code",
   "execution_count": null,
   "metadata": {},
   "outputs": [],
   "source": []
  }
 ],
 "metadata": {
  "kernelspec": {
   "display_name": "Python 3",
   "language": "python",
   "name": "python3"
  },
  "language_info": {
   "codemirror_mode": {
    "name": "ipython",
    "version": 3
   },
   "file_extension": ".py",
   "mimetype": "text/x-python",
   "name": "python",
   "nbconvert_exporter": "python",
   "pygments_lexer": "ipython3",
   "version": "3.7.7"
  }
 },
 "nbformat": 4,
 "nbformat_minor": 4
}
