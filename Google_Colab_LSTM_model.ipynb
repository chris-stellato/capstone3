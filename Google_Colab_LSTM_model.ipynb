{
 "cells": [
  {
   "cell_type": "code",
   "execution_count": 2,
   "metadata": {
    "colab": {
     "base_uri": "https://localhost:8080/"
    },
    "executionInfo": {
     "elapsed": 76712,
     "status": "ok",
     "timestamp": 1619270100441,
     "user": {
      "displayName": "Chris Stellato",
      "photoUrl": "",
      "userId": "01766664169170333003"
     },
     "user_tz": 360
    },
    "id": "xxR2sNOYg0S7",
    "outputId": "7701bc8b-b242-4c22-a929-0498d82b0bb0"
   },
   "outputs": [
    {
     "name": "stdout",
     "output_type": "stream",
     "text": [
      "Collecting prophet\n",
      "\u001b[?25l  Downloading https://files.pythonhosted.org/packages/f0/fa/c382f0ac5abe9f0a4df9d874a5e8843db035fe2f071b5c00a545b1e3c10b/prophet-1.0.1.tar.gz (65kB)\n",
      "\u001b[K     |████████████████████████████████| 71kB 5.2MB/s \n",
      "\u001b[?25hRequirement already satisfied: Cython>=0.22 in /usr/local/lib/python3.7/dist-packages (from prophet) (0.29.22)\n",
      "Collecting cmdstanpy==0.9.68\n",
      "\u001b[?25l  Downloading https://files.pythonhosted.org/packages/08/b9/b4f0938b38dbe775c4def707f525ab816b9d0215ecd8ab2d76780f4514f8/cmdstanpy-0.9.68-py3-none-any.whl (49kB)\n",
      "\u001b[K     |████████████████████████████████| 51kB 5.0MB/s \n",
      "\u001b[?25hRequirement already satisfied: pystan~=2.19.1.1 in /usr/local/lib/python3.7/dist-packages (from prophet) (2.19.1.1)\n",
      "Requirement already satisfied: numpy>=1.15.4 in /usr/local/lib/python3.7/dist-packages (from prophet) (1.19.5)\n",
      "Requirement already satisfied: pandas>=1.0.4 in /usr/local/lib/python3.7/dist-packages (from prophet) (1.1.5)\n",
      "Requirement already satisfied: matplotlib>=2.0.0 in /usr/local/lib/python3.7/dist-packages (from prophet) (3.2.2)\n",
      "Requirement already satisfied: LunarCalendar>=0.0.9 in /usr/local/lib/python3.7/dist-packages (from prophet) (0.0.9)\n",
      "Requirement already satisfied: convertdate>=2.1.2 in /usr/local/lib/python3.7/dist-packages (from prophet) (2.3.2)\n",
      "Requirement already satisfied: holidays>=0.10.2 in /usr/local/lib/python3.7/dist-packages (from prophet) (0.10.5.2)\n",
      "Requirement already satisfied: setuptools-git>=1.2 in /usr/local/lib/python3.7/dist-packages (from prophet) (1.2)\n",
      "Requirement already satisfied: python-dateutil>=2.8.0 in /usr/local/lib/python3.7/dist-packages (from prophet) (2.8.1)\n",
      "Requirement already satisfied: tqdm>=4.36.1 in /usr/local/lib/python3.7/dist-packages (from prophet) (4.41.1)\n",
      "Collecting ujson\n",
      "\u001b[?25l  Downloading https://files.pythonhosted.org/packages/17/4e/50e8e4cf5f00b537095711c2c86ac4d7191aed2b4fffd5a19f06898f6929/ujson-4.0.2-cp37-cp37m-manylinux1_x86_64.whl (179kB)\n",
      "\u001b[K     |████████████████████████████████| 184kB 8.9MB/s \n",
      "\u001b[?25hRequirement already satisfied: pytz>=2017.2 in /usr/local/lib/python3.7/dist-packages (from pandas>=1.0.4->prophet) (2018.9)\n",
      "Requirement already satisfied: pyparsing!=2.0.4,!=2.1.2,!=2.1.6,>=2.0.1 in /usr/local/lib/python3.7/dist-packages (from matplotlib>=2.0.0->prophet) (2.4.7)\n",
      "Requirement already satisfied: kiwisolver>=1.0.1 in /usr/local/lib/python3.7/dist-packages (from matplotlib>=2.0.0->prophet) (1.3.1)\n",
      "Requirement already satisfied: cycler>=0.10 in /usr/local/lib/python3.7/dist-packages (from matplotlib>=2.0.0->prophet) (0.10.0)\n",
      "Requirement already satisfied: ephem>=3.7.5.3 in /usr/local/lib/python3.7/dist-packages (from LunarCalendar>=0.0.9->prophet) (3.7.7.1)\n",
      "Requirement already satisfied: pymeeus<=1,>=0.3.13 in /usr/local/lib/python3.7/dist-packages (from convertdate>=2.1.2->prophet) (0.5.11)\n",
      "Requirement already satisfied: korean-lunar-calendar in /usr/local/lib/python3.7/dist-packages (from holidays>=0.10.2->prophet) (0.2.1)\n",
      "Requirement already satisfied: six in /usr/local/lib/python3.7/dist-packages (from holidays>=0.10.2->prophet) (1.15.0)\n",
      "Requirement already satisfied: hijri-converter in /usr/local/lib/python3.7/dist-packages (from holidays>=0.10.2->prophet) (2.1.1)\n",
      "Building wheels for collected packages: prophet\n",
      "  Building wheel for prophet (setup.py) ... \u001b[?25l\u001b[?25hdone\n",
      "  Created wheel for prophet: filename=prophet-1.0.1-cp37-none-any.whl size=6640152 sha256=32398ff32ed7d4aa967d22ed7a52ec8f1e2c72247068da40f99bffb454cfbeca\n",
      "  Stored in directory: /root/.cache/pip/wheels/92/1d/02/bc0a91bd3a84e060722075d2b0b68e875e37ec7dc49451d513\n",
      "Successfully built prophet\n",
      "\u001b[31mERROR: fbprophet 0.7.1 has requirement cmdstanpy==0.9.5, but you'll have cmdstanpy 0.9.68 which is incompatible.\u001b[0m\n",
      "Installing collected packages: ujson, cmdstanpy, prophet\n",
      "  Found existing installation: cmdstanpy 0.9.5\n",
      "    Uninstalling cmdstanpy-0.9.5:\n",
      "      Successfully uninstalled cmdstanpy-0.9.5\n",
      "Successfully installed cmdstanpy-0.9.68 prophet-1.0.1 ujson-4.0.2\n"
     ]
    }
   ],
   "source": [
    "!pip install prophet"
   ]
  },
  {
   "cell_type": "code",
   "execution_count": 3,
   "metadata": {
    "colab": {
     "base_uri": "https://localhost:8080/"
    },
    "executionInfo": {
     "elapsed": 352,
     "status": "ok",
     "timestamp": 1619270111381,
     "user": {
      "displayName": "Chris Stellato",
      "photoUrl": "",
      "userId": "01766664169170333003"
     },
     "user_tz": 360
    },
    "id": "dvoHkYJu9UT7",
    "outputId": "818ab2c1-1e37-49a6-dc41-e737ca49f2eb"
   },
   "outputs": [
    {
     "name": "stdout",
     "output_type": "stream",
     "text": [
      "Sat Apr 24 13:15:11 2021       \n",
      "+-----------------------------------------------------------------------------+\n",
      "| NVIDIA-SMI 465.19.01    Driver Version: 460.32.03    CUDA Version: 11.2     |\n",
      "|-------------------------------+----------------------+----------------------+\n",
      "| GPU  Name        Persistence-M| Bus-Id        Disp.A | Volatile Uncorr. ECC |\n",
      "| Fan  Temp  Perf  Pwr:Usage/Cap|         Memory-Usage | GPU-Util  Compute M. |\n",
      "|                               |                      |               MIG M. |\n",
      "|===============================+======================+======================|\n",
      "|   0  Tesla P100-PCIE...  Off  | 00000000:00:04.0 Off |                    0 |\n",
      "| N/A   38C    P0    27W / 250W |      0MiB / 16280MiB |      0%      Default |\n",
      "|                               |                      |                  N/A |\n",
      "+-------------------------------+----------------------+----------------------+\n",
      "                                                                               \n",
      "+-----------------------------------------------------------------------------+\n",
      "| Processes:                                                                  |\n",
      "|  GPU   GI   CI        PID   Type   Process name                  GPU Memory |\n",
      "|        ID   ID                                                   Usage      |\n",
      "|=============================================================================|\n",
      "|  No running processes found                                                 |\n",
      "+-----------------------------------------------------------------------------+\n"
     ]
    }
   ],
   "source": [
    "gpu_info = !nvidia-smi\n",
    "gpu_info = '\\n'.join(gpu_info)\n",
    "if gpu_info.find('failed') >= 0:\n",
    "  print('Select the Runtime > \"Change runtime type\" menu to enable a GPU accelerator, ')\n",
    "  print('and then re-execute this cell.')\n",
    "else:\n",
    "  print(gpu_info)"
   ]
  },
  {
   "cell_type": "code",
   "execution_count": 4,
   "metadata": {
    "colab": {
     "base_uri": "https://localhost:8080/"
    },
    "executionInfo": {
     "elapsed": 172353,
     "status": "ok",
     "timestamp": 1619270296232,
     "user": {
      "displayName": "Chris Stellato",
      "photoUrl": "",
      "userId": "01766664169170333003"
     },
     "user_tz": 360
    },
    "id": "ctkQU7Rie9VZ",
    "outputId": "6a154b05-8c8e-4cda-e221-30baee562b60"
   },
   "outputs": [
    {
     "name": "stdout",
     "output_type": "stream",
     "text": [
      "Mounted at /content/drive\n"
     ]
    }
   ],
   "source": [
    "from google.colab import drive\n",
    "drive.mount('/content/drive')"
   ]
  },
  {
   "cell_type": "code",
   "execution_count": 5,
   "metadata": {
    "colab": {
     "base_uri": "https://localhost:8080/"
    },
    "executionInfo": {
     "elapsed": 308,
     "status": "ok",
     "timestamp": 1619270298850,
     "user": {
      "displayName": "Chris Stellato",
      "photoUrl": "",
      "userId": "01766664169170333003"
     },
     "user_tz": 360
    },
    "id": "XtowURQoge0S",
    "outputId": "4bef9bac-1ca6-42cc-9ce6-3ecdb5096808"
   },
   "outputs": [
    {
     "name": "stdout",
     "output_type": "stream",
     "text": [
      "/content/drive/MyDrive/Colab Notebooks/capstone3\n"
     ]
    }
   ],
   "source": [
    "cd drive/MyDrive/Colab\\ Notebooks/capstone3"
   ]
  },
  {
   "cell_type": "code",
   "execution_count": 6,
   "metadata": {
    "colab": {
     "base_uri": "https://localhost:8080/"
    },
    "executionInfo": {
     "elapsed": 4261,
     "status": "ok",
     "timestamp": 1619270304216,
     "user": {
      "displayName": "Chris Stellato",
      "photoUrl": "",
      "userId": "01766664169170333003"
     },
     "user_tz": 360
    },
    "id": "uvDlOV-qen_f",
    "outputId": "1419a5f0-6739-4d79-f091-efa3c143bace"
   },
   "outputs": [
    {
     "name": "stderr",
     "output_type": "stream",
     "text": [
      "/usr/local/lib/python3.7/dist-packages/statsmodels/tools/_testing.py:19: FutureWarning: pandas.util.testing is deprecated. Use the functions in the public API at pandas.testing instead.\n",
      "  import pandas.util.testing as tm\n"
     ]
    }
   ],
   "source": [
    "from scipy import stats\n",
    "import numpy as np\n",
    "import matplotlib.pyplot as plt\n",
    "\n",
    "import pandas as pd\n",
    "from pandas.plotting import register_matplotlib_converters\n",
    "register_matplotlib_converters()\n",
    "\n",
    "\n",
    "from sklearn.model_selection import train_test_split\n",
    "from sklearn.preprocessing import MinMaxScaler\n",
    "\n",
    "import tensorflow as tf\n",
    "keras = tf.keras\n",
    "from keras.preprocessing.sequence import TimeseriesGenerator\n",
    "from keras.models import Sequential\n",
    "from keras.layers import Dense\n",
    "from keras.layers import LSTM\n",
    "\n",
    "%matplotlib inline\n",
    "\n",
    "from src.time_series_functions import *"
   ]
  },
  {
   "cell_type": "code",
   "execution_count": 7,
   "metadata": {
    "colab": {
     "base_uri": "https://localhost:8080/"
    },
    "executionInfo": {
     "elapsed": 178,
     "status": "ok",
     "timestamp": 1619270308313,
     "user": {
      "displayName": "Chris Stellato",
      "photoUrl": "",
      "userId": "01766664169170333003"
     },
     "user_tz": 360
    },
    "id": "l0LKlhN6en_s",
    "outputId": "aaf364b5-7423-4d84-e4c1-3b02db7461bc"
   },
   "outputs": [
    {
     "name": "stdout",
     "output_type": "stream",
     "text": [
      "2.4.0\n"
     ]
    }
   ],
   "source": [
    "print(keras.__version__)\n",
    "##may need to update keras"
   ]
  },
  {
   "cell_type": "code",
   "execution_count": 8,
   "metadata": {
    "executionInfo": {
     "elapsed": 572,
     "status": "ok",
     "timestamp": 1619270312369,
     "user": {
      "displayName": "Chris Stellato",
      "photoUrl": "",
      "userId": "01766664169170333003"
     },
     "user_tz": 360
    },
    "id": "f5D_36KZf6q9"
   },
   "outputs": [],
   "source": [
    "def csv_with_datetime(filepath, col_name): \n",
    "    '''reads in a csv and converts specified column to datetime format and lablel ds\n",
    "    and sets index to datetime'''\n",
    "    df = pd.read_csv(filepath)\n",
    "    df['ds'] = pd.to_datetime(df[col_name])\n",
    "    df.set_index(pd.to_datetime(df[col_name]), inplace=True)\n",
    "    df.drop(col_name, axis=1, inplace=True)\n",
    "    return df"
   ]
  },
  {
   "cell_type": "code",
   "execution_count": 11,
   "metadata": {
    "colab": {
     "base_uri": "https://localhost:8080/",
     "height": 35
    },
    "executionInfo": {
     "elapsed": 303,
     "status": "ok",
     "timestamp": 1619270455470,
     "user": {
      "displayName": "Chris Stellato",
      "photoUrl": "",
      "userId": "01766664169170333003"
     },
     "user_tz": 360
    },
    "id": "431xQIP8CkLu",
    "outputId": "9ba94401-d1f2-4cb8-9cd3-ec15a30e139a"
   },
   "outputs": [
    {
     "data": {
      "application/vnd.google.colaboratory.intrinsic+json": {
       "type": "string"
      },
      "text/plain": [
       "'/content/drive/My Drive/Colab Notebooks/capstone3'"
      ]
     },
     "execution_count": 11,
     "metadata": {
      "tags": []
     },
     "output_type": "execute_result"
    }
   ],
   "source": [
    "pwd\n"
   ]
  },
  {
   "cell_type": "code",
   "execution_count": 12,
   "metadata": {
    "executionInfo": {
     "elapsed": 712,
     "status": "ok",
     "timestamp": 1619270476880,
     "user": {
      "displayName": "Chris Stellato",
      "photoUrl": "",
      "userId": "01766664169170333003"
     },
     "user_tz": 360
    },
    "id": "hB892PRVen_t"
   },
   "outputs": [],
   "source": [
    "base_df = csv_with_datetime('data/combdf_snoflow_and_cfs1.csv.zip', 'Unnamed: 0')\n",
    "df = base_df.copy()"
   ]
  },
  {
   "cell_type": "code",
   "execution_count": 13,
   "metadata": {
    "executionInfo": {
     "elapsed": 397,
     "status": "ok",
     "timestamp": 1619270485341,
     "user": {
      "displayName": "Chris Stellato",
      "photoUrl": "",
      "userId": "01766664169170333003"
     },
     "user_tz": 360
    },
    "id": "4iGHvs3Len_u"
   },
   "outputs": [],
   "source": [
    "#small % of records containing NaNs in the temp columns, randomly distributed. using ffill. \n",
    "df.fillna(method='ffill', inplace=True)"
   ]
  },
  {
   "cell_type": "code",
   "execution_count": 14,
   "metadata": {
    "executionInfo": {
     "elapsed": 391,
     "status": "ok",
     "timestamp": 1619270489898,
     "user": {
      "displayName": "Chris Stellato",
      "photoUrl": "",
      "userId": "01766664169170333003"
     },
     "user_tz": 360
    },
    "id": "Q5SNWCmPen_v"
   },
   "outputs": [],
   "source": [
    "df = df[['ds', 'Streamflow Value', 'Air Temperature Average (degF)',\\\n",
    "                'Precipitation Accumulation (in) Start of Day Values',\\\n",
    "                'Snow Water Equivalent (in) Start of Day Values']]"
   ]
  },
  {
   "cell_type": "code",
   "execution_count": 15,
   "metadata": {
    "executionInfo": {
     "elapsed": 336,
     "status": "ok",
     "timestamp": 1619270490959,
     "user": {
      "displayName": "Chris Stellato",
      "photoUrl": "",
      "userId": "01766664169170333003"
     },
     "user_tz": 360
    },
    "id": "wgngA9Tjen_w"
   },
   "outputs": [],
   "source": [
    "df.columns = ['ds', 'y', 'avg_temp', 'precip_accum', 'swe']"
   ]
  },
  {
   "cell_type": "code",
   "execution_count": 16,
   "metadata": {
    "executionInfo": {
     "elapsed": 660,
     "status": "ok",
     "timestamp": 1619270494207,
     "user": {
      "displayName": "Chris Stellato",
      "photoUrl": "",
      "userId": "01766664169170333003"
     },
     "user_tz": 360
    },
    "id": "uHsBuEHaen_w"
   },
   "outputs": [],
   "source": [
    "#cleaning the dataframe to end at 12/31/2020 for cleaner working frame"
   ]
  },
  {
   "cell_type": "code",
   "execution_count": 17,
   "metadata": {
    "executionInfo": {
     "elapsed": 326,
     "status": "ok",
     "timestamp": 1619270494311,
     "user": {
      "displayName": "Chris Stellato",
      "photoUrl": "",
      "userId": "01766664169170333003"
     },
     "user_tz": 360
    },
    "id": "UzaGW1Zeen_w"
   },
   "outputs": [],
   "source": [
    "df = df['1990':'2020']"
   ]
  },
  {
   "cell_type": "code",
   "execution_count": 18,
   "metadata": {
    "colab": {
     "base_uri": "https://localhost:8080/"
    },
    "executionInfo": {
     "elapsed": 299,
     "status": "ok",
     "timestamp": 1619270495546,
     "user": {
      "displayName": "Chris Stellato",
      "photoUrl": "",
      "userId": "01766664169170333003"
     },
     "user_tz": 360
    },
    "id": "6lBqQxT5en_w",
    "outputId": "54d04b2d-5210-4deb-8b22-6b4f61d262e5"
   },
   "outputs": [
    {
     "name": "stdout",
     "output_type": "stream",
     "text": [
      "<class 'pandas.core.frame.DataFrame'>\n",
      "DatetimeIndex: 11323 entries, 1990-01-01 to 2020-12-31\n",
      "Data columns (total 5 columns):\n",
      " #   Column        Non-Null Count  Dtype         \n",
      "---  ------        --------------  -----         \n",
      " 0   ds            11323 non-null  datetime64[ns]\n",
      " 1   y             11323 non-null  float64       \n",
      " 2   avg_temp      11323 non-null  float64       \n",
      " 3   precip_accum  11323 non-null  float64       \n",
      " 4   swe           11323 non-null  float64       \n",
      "dtypes: datetime64[ns](1), float64(4)\n",
      "memory usage: 530.8 KB\n"
     ]
    }
   ],
   "source": [
    "df.info()"
   ]
  },
  {
   "cell_type": "code",
   "execution_count": 19,
   "metadata": {
    "executionInfo": {
     "elapsed": 274,
     "status": "ok",
     "timestamp": 1619270501181,
     "user": {
      "displayName": "Chris Stellato",
      "photoUrl": "",
      "userId": "01766664169170333003"
     },
     "user_tz": 360
    },
    "id": "QT0jo_cnen_x"
   },
   "outputs": [],
   "source": [
    "#we now have a full 31 year dataframe (01/01/1990 - 12/31/2020), no nans, and columns appropriately named\n",
    "#granularity of the data is daily, writing code based on day count not calendar year for OOP"
   ]
  },
  {
   "cell_type": "code",
   "execution_count": 20,
   "metadata": {
    "executionInfo": {
     "elapsed": 291,
     "status": "ok",
     "timestamp": 1619270501993,
     "user": {
      "displayName": "Chris Stellato",
      "photoUrl": "",
      "userId": "01766664169170333003"
     },
     "user_tz": 360
    },
    "id": "cC0Zeiwaen_x"
   },
   "outputs": [],
   "source": [
    "#for generating graph only. train test split will happen after windowizing\n",
    "test_size = 365 #days\n",
    "#slice the training data to all years but final year\n",
    "train = df.iloc[:-test_size,:].copy()\n",
    "#slice the test data to final year\n",
    "test = df.iloc[-test_size: , : ].copy()\n",
    "#splitting training data into X_train and y_train, still dataframes maintaining their datetime index\n",
    "X_train = train.drop(columns='y')\n",
    "y_train = pd.DataFrame(train['y'])\n",
    "X_test = test.drop(columns='y')\n",
    "y_test = pd.DataFrame(train['y'])"
   ]
  },
  {
   "cell_type": "code",
   "execution_count": 21,
   "metadata": {
    "colab": {
     "base_uri": "https://localhost:8080/",
     "height": 335
    },
    "executionInfo": {
     "elapsed": 701,
     "status": "ok",
     "timestamp": 1619270503237,
     "user": {
      "displayName": "Chris Stellato",
      "photoUrl": "",
      "userId": "01766664169170333003"
     },
     "user_tz": 360
    },
    "id": "wMP_6ruSen_y",
    "outputId": "c4b758e7-42a5-4af7-9237-c9bbf18097bd"
   },
   "outputs": [
    {
     "data": {
      "image/png": "[encoded data removed]",
      "text/plain": [
       "<Figure size 2880x720 with 1 Axes>"
      ]
     },
     "metadata": {
      "tags": []
     },
     "output_type": "display_data"
    }
   ],
   "source": [
    "plt.figure(figsize=(40,10))\n",
    "plt.plot(train.index,train['y'],label='train set');\n",
    "plt.plot(test.index,test['y'],label='test set', color='orange')\n",
    "plt.legend();"
   ]
  },
  {
   "cell_type": "code",
   "execution_count": null,
   "metadata": {
    "id": "ytMD5DqOen_y"
   },
   "outputs": [],
   "source": [
    "#definitely out of proportion for normal train/test.  Prophet model did best passing only 20 years of training data\n",
    "#will try different sizes of training data on LSTM to find optimal training set"
   ]
  },
  {
   "cell_type": "code",
   "execution_count": 22,
   "metadata": {
    "executionInfo": {
     "elapsed": 261,
     "status": "ok",
     "timestamp": 1619270523820,
     "user": {
      "displayName": "Chris Stellato",
      "photoUrl": "",
      "userId": "01766664169170333003"
     },
     "user_tz": 360
    },
    "id": "2dKFtUWGen_y"
   },
   "outputs": [],
   "source": [
    "#windowize function, three dimensional output for X and y, split afterwards\n",
    "#the below windowize functions are imported but pasted here for working through setup\n",
    "def windowize_data(data, n_prev, y_var='y', predict_steps=365):\n",
    "    n_predictions = len(data) - n_prev\n",
    "    y = data[y_var].iloc[n_prev:].values\n",
    "    y_indices = np.arange(predict_steps) + np.arange(len(y) - predict_steps+1)[:, None]\n",
    "    y = y[y_indices]\n",
    "    x_indices = np.arange(n_prev) + np.arange(n_predictions- predict_steps+1)[:, None]\n",
    "    x = data.values[x_indices]\n",
    "    return x, y"
   ]
  },
  {
   "cell_type": "code",
   "execution_count": 81,
   "metadata": {
    "executionInfo": {
     "elapsed": 292,
     "status": "ok",
     "timestamp": 1619277124304,
     "user": {
      "displayName": "Chris Stellato",
      "photoUrl": "",
      "userId": "01766664169170333003"
     },
     "user_tz": 360
    },
    "id": "S4mRH1c7en_z"
   },
   "outputs": [],
   "source": [
    "# samp_df = df.iloc[-6000:, :].copy()\n",
    "# n_prev = 400\n",
    "# predict_steps = 30\n",
    "# test_size = 365"
   ]
  },
  {
   "cell_type": "code",
   "execution_count": 170,
   "metadata": {
    "executionInfo": {
     "elapsed": 294,
     "status": "ok",
     "timestamp": 1619286455387,
     "user": {
      "displayName": "Chris Stellato",
      "photoUrl": "",
      "userId": "01766664169170333003"
     },
     "user_tz": 360
    },
    "id": "E_l9XXor-SPC"
   },
   "outputs": [],
   "source": [
    "samp_df = df.iloc[-6000:, :].copy()\n",
    "n_prev = 120\n",
    "predict_steps = 14\n",
    "test_size = 365"
   ]
  },
  {
   "cell_type": "code",
   "execution_count": 171,
   "metadata": {
    "executionInfo": {
     "elapsed": 294,
     "status": "ok",
     "timestamp": 1619286456455,
     "user": {
      "displayName": "Chris Stellato",
      "photoUrl": "",
      "userId": "01766664169170333003"
     },
     "user_tz": 360
    },
    "id": "5AwW2pQFen_z"
   },
   "outputs": [],
   "source": [
    "#convert ds column to integer day number, continuous across entire dataframe\n",
    "samp_df['ds'] = pd.to_datetime(df['ds']).sub(pd.Timestamp(df['ds'].iloc[0])).dt.days"
   ]
  },
  {
   "cell_type": "code",
   "execution_count": 172,
   "metadata": {
    "executionInfo": {
     "elapsed": 283,
     "status": "ok",
     "timestamp": 1619286457306,
     "user": {
      "displayName": "Chris Stellato",
      "photoUrl": "",
      "userId": "01766664169170333003"
     },
     "user_tz": 360
    },
    "id": "vjPveC0Aq4JZ"
   },
   "outputs": [],
   "source": [
    "from sklearn.preprocessing import StandardScaler\n",
    "\n",
    "scale_df = samp_df.copy()\n",
    "for column in scale_df.columns:\n",
    "  if column != 'y':\n",
    "    scaler = StandardScaler()\n",
    "    # print (scale_df[column].values.shape)\n",
    "    holder = scaler.fit_transform(scale_df[column].values.reshape(-1,1))\n",
    "    scale_df[column] = holder.reshape(len(scale_df),)"
   ]
  },
  {
   "cell_type": "code",
   "execution_count": 173,
   "metadata": {
    "colab": {
     "base_uri": "https://localhost:8080/",
     "height": 235
    },
    "executionInfo": {
     "elapsed": 284,
     "status": "ok",
     "timestamp": 1619286458232,
     "user": {
      "displayName": "Chris Stellato",
      "photoUrl": "",
      "userId": "01766664169170333003"
     },
     "user_tz": 360
    },
    "id": "8qMl7Gpuz68p",
    "outputId": "cc51965e-c9fd-4039-adc5-3177e101500f"
   },
   "outputs": [
    {
     "data": {
      "text/html": [
       "<div>\n",
       "<style scoped>\n",
       "    .dataframe tbody tr th:only-of-type {\n",
       "        vertical-align: middle;\n",
       "    }\n",
       "\n",
       "    .dataframe tbody tr th {\n",
       "        vertical-align: top;\n",
       "    }\n",
       "\n",
       "    .dataframe thead th {\n",
       "        text-align: right;\n",
       "    }\n",
       "</style>\n",
       "<table border=\"1\" class=\"dataframe\">\n",
       "  <thead>\n",
       "    <tr style=\"text-align: right;\">\n",
       "      <th></th>\n",
       "      <th>ds</th>\n",
       "      <th>y</th>\n",
       "      <th>avg_temp</th>\n",
       "      <th>precip_accum</th>\n",
       "      <th>swe</th>\n",
       "    </tr>\n",
       "    <tr>\n",
       "      <th>Unnamed: 0</th>\n",
       "      <th></th>\n",
       "      <th></th>\n",
       "      <th></th>\n",
       "      <th></th>\n",
       "      <th></th>\n",
       "    </tr>\n",
       "  </thead>\n",
       "  <tbody>\n",
       "    <tr>\n",
       "      <th>2004-07-29</th>\n",
       "      <td>-1.731762</td>\n",
       "      <td>33.0</td>\n",
       "      <td>1.050907</td>\n",
       "      <td>0.487837</td>\n",
       "      <td>-0.931964</td>\n",
       "    </tr>\n",
       "    <tr>\n",
       "      <th>2004-07-30</th>\n",
       "      <td>-1.731185</td>\n",
       "      <td>28.0</td>\n",
       "      <td>0.914353</td>\n",
       "      <td>0.508494</td>\n",
       "      <td>-0.931964</td>\n",
       "    </tr>\n",
       "    <tr>\n",
       "      <th>2004-07-31</th>\n",
       "      <td>-1.730607</td>\n",
       "      <td>26.0</td>\n",
       "      <td>1.392292</td>\n",
       "      <td>0.508494</td>\n",
       "      <td>-0.931964</td>\n",
       "    </tr>\n",
       "    <tr>\n",
       "      <th>2004-08-01</th>\n",
       "      <td>-1.730030</td>\n",
       "      <td>23.0</td>\n",
       "      <td>1.324015</td>\n",
       "      <td>0.508494</td>\n",
       "      <td>-0.931964</td>\n",
       "    </tr>\n",
       "    <tr>\n",
       "      <th>2004-08-02</th>\n",
       "      <td>-1.729453</td>\n",
       "      <td>24.0</td>\n",
       "      <td>1.119184</td>\n",
       "      <td>0.508494</td>\n",
       "      <td>-0.931964</td>\n",
       "    </tr>\n",
       "  </tbody>\n",
       "</table>\n",
       "</div>"
      ],
      "text/plain": [
       "                  ds     y  avg_temp  precip_accum       swe\n",
       "Unnamed: 0                                                  \n",
       "2004-07-29 -1.731762  33.0  1.050907      0.487837 -0.931964\n",
       "2004-07-30 -1.731185  28.0  0.914353      0.508494 -0.931964\n",
       "2004-07-31 -1.730607  26.0  1.392292      0.508494 -0.931964\n",
       "2004-08-01 -1.730030  23.0  1.324015      0.508494 -0.931964\n",
       "2004-08-02 -1.729453  24.0  1.119184      0.508494 -0.931964"
      ]
     },
     "execution_count": 173,
     "metadata": {
      "tags": []
     },
     "output_type": "execute_result"
    }
   ],
   "source": [
    "scale_df.head()"
   ]
  },
  {
   "cell_type": "code",
   "execution_count": 174,
   "metadata": {
    "colab": {
     "base_uri": "https://localhost:8080/",
     "height": 235
    },
    "executionInfo": {
     "elapsed": 631,
     "status": "ok",
     "timestamp": 1619286460020,
     "user": {
      "displayName": "Chris Stellato",
      "photoUrl": "",
      "userId": "01766664169170333003"
     },
     "user_tz": 360
    },
    "id": "ixqk83Ez9zjw",
    "outputId": "484cd8a9-b713-41c4-935d-4b86ee5096cc"
   },
   "outputs": [
    {
     "data": {
      "text/html": [
       "<div>\n",
       "<style scoped>\n",
       "    .dataframe tbody tr th:only-of-type {\n",
       "        vertical-align: middle;\n",
       "    }\n",
       "\n",
       "    .dataframe tbody tr th {\n",
       "        vertical-align: top;\n",
       "    }\n",
       "\n",
       "    .dataframe thead th {\n",
       "        text-align: right;\n",
       "    }\n",
       "</style>\n",
       "<table border=\"1\" class=\"dataframe\">\n",
       "  <thead>\n",
       "    <tr style=\"text-align: right;\">\n",
       "      <th></th>\n",
       "      <th>ds</th>\n",
       "      <th>y</th>\n",
       "      <th>avg_temp</th>\n",
       "      <th>precip_accum</th>\n",
       "      <th>swe</th>\n",
       "    </tr>\n",
       "    <tr>\n",
       "      <th>Unnamed: 0</th>\n",
       "      <th></th>\n",
       "      <th></th>\n",
       "      <th></th>\n",
       "      <th></th>\n",
       "      <th></th>\n",
       "    </tr>\n",
       "  </thead>\n",
       "  <tbody>\n",
       "    <tr>\n",
       "      <th>2020-12-27</th>\n",
       "      <td>1.729453</td>\n",
       "      <td>6.23</td>\n",
       "      <td>-1.407062</td>\n",
       "      <td>-1.113107</td>\n",
       "      <td>-0.203519</td>\n",
       "    </tr>\n",
       "    <tr>\n",
       "      <th>2020-12-28</th>\n",
       "      <td>1.730030</td>\n",
       "      <td>5.80</td>\n",
       "      <td>-1.407062</td>\n",
       "      <td>-1.102778</td>\n",
       "      <td>-0.188343</td>\n",
       "    </tr>\n",
       "    <tr>\n",
       "      <th>2020-12-29</th>\n",
       "      <td>1.730607</td>\n",
       "      <td>4.99</td>\n",
       "      <td>-1.680170</td>\n",
       "      <td>-1.061463</td>\n",
       "      <td>-0.127640</td>\n",
       "    </tr>\n",
       "    <tr>\n",
       "      <th>2020-12-30</th>\n",
       "      <td>1.731185</td>\n",
       "      <td>4.48</td>\n",
       "      <td>-1.885000</td>\n",
       "      <td>-1.061463</td>\n",
       "      <td>-0.127640</td>\n",
       "    </tr>\n",
       "    <tr>\n",
       "      <th>2020-12-31</th>\n",
       "      <td>1.731762</td>\n",
       "      <td>5.62</td>\n",
       "      <td>-1.202231</td>\n",
       "      <td>-1.051135</td>\n",
       "      <td>-0.112464</td>\n",
       "    </tr>\n",
       "  </tbody>\n",
       "</table>\n",
       "</div>"
      ],
      "text/plain": [
       "                  ds     y  avg_temp  precip_accum       swe\n",
       "Unnamed: 0                                                  \n",
       "2020-12-27  1.729453  6.23 -1.407062     -1.113107 -0.203519\n",
       "2020-12-28  1.730030  5.80 -1.407062     -1.102778 -0.188343\n",
       "2020-12-29  1.730607  4.99 -1.680170     -1.061463 -0.127640\n",
       "2020-12-30  1.731185  4.48 -1.885000     -1.061463 -0.127640\n",
       "2020-12-31  1.731762  5.62 -1.202231     -1.051135 -0.112464"
      ]
     },
     "execution_count": 174,
     "metadata": {
      "tags": []
     },
     "output_type": "execute_result"
    }
   ],
   "source": [
    "scale_df.tail()"
   ]
  },
  {
   "cell_type": "code",
   "execution_count": 175,
   "metadata": {
    "executionInfo": {
     "elapsed": 284,
     "status": "ok",
     "timestamp": 1619286460978,
     "user": {
      "displayName": "Chris Stellato",
      "photoUrl": "",
      "userId": "01766664169170333003"
     },
     "user_tz": 360
    },
    "id": "b9B53E2Yen_z"
   },
   "outputs": [],
   "source": [
    "X, y = windowize_data(scale_df, n_prev, 'y', predict_steps)"
   ]
  },
  {
   "cell_type": "code",
   "execution_count": 176,
   "metadata": {
    "executionInfo": {
     "elapsed": 504,
     "status": "ok",
     "timestamp": 1619286462134,
     "user": {
      "displayName": "Chris Stellato",
      "photoUrl": "",
      "userId": "01766664169170333003"
     },
     "user_tz": 360
    },
    "id": "nhyB-2Lhen_z"
   },
   "outputs": [],
   "source": [
    "X_train = X[:-test_size]\n",
    "X_test = X[-test_size:]\n",
    "\n",
    "y_train = y[:-test_size]\n",
    "y_test = y[-test_size:]"
   ]
  },
  {
   "cell_type": "code",
   "execution_count": 177,
   "metadata": {
    "colab": {
     "base_uri": "https://localhost:8080/"
    },
    "executionInfo": {
     "elapsed": 281,
     "status": "ok",
     "timestamp": 1619286463157,
     "user": {
      "displayName": "Chris Stellato",
      "photoUrl": "",
      "userId": "01766664169170333003"
     },
     "user_tz": 360
    },
    "id": "JQne98CWen_0",
    "outputId": "176f4d3a-d8c3-42ff-be6f-fe2338e2da0e"
   },
   "outputs": [
    {
     "data": {
      "text/plain": [
       "((5502, 120, 5), (365, 120, 5), (5502, 14), (365, 14))"
      ]
     },
     "execution_count": 177,
     "metadata": {
      "tags": []
     },
     "output_type": "execute_result"
    }
   ],
   "source": [
    "X_train.shape, X_test.shape, y_train.shape, y_test.shape"
   ]
  },
  {
   "cell_type": "code",
   "execution_count": 178,
   "metadata": {
    "executionInfo": {
     "elapsed": 335,
     "status": "ok",
     "timestamp": 1619286464113,
     "user": {
      "displayName": "Chris Stellato",
      "photoUrl": "",
      "userId": "01766664169170333003"
     },
     "user_tz": 360
    },
    "id": "S7LPD3G9jmR7"
   },
   "outputs": [],
   "source": [
    "from keras.callbacks import EarlyStopping, ModelCheckpoint\n",
    "callback = EarlyStopping(monitor = 'val_loss',\n",
    "                          min_delta = 0,\n",
    "                          patience = 50,\n",
    "                          verbose = 2,\n",
    "                          restore_best_weights = True)\n",
    "\n",
    "# checkpoint = ModelCheckpoint('checkpoints', monitor='val_loss', save_weights_only=True, save_best_only=True)"
   ]
  },
  {
   "cell_type": "code",
   "execution_count": 179,
   "metadata": {
    "executionInfo": {
     "elapsed": 896,
     "status": "ok",
     "timestamp": 1619286465950,
     "user": {
      "displayName": "Chris Stellato",
      "photoUrl": "",
      "userId": "01766664169170333003"
     },
     "user_tz": 360
    },
    "id": "kb-8tp3Ven_0"
   },
   "outputs": [],
   "source": [
    "# model = keras.Sequential()\n",
    "# model.add(keras.layers.LSTM(32, input_shape=(n_prev, 5), return_sequences=True))\n",
    "# model.add(keras.layers.LSTM(32, return_sequences=False))\n",
    "# model.add(keras.layers.Dense(predict_steps, activation='linear'))\n",
    "# model.compile(optimizer='adam',\n",
    "#               loss='mse')"
   ]
  },
  {
   "cell_type": "code",
   "execution_count": 180,
   "metadata": {
    "executionInfo": {
     "elapsed": 310,
     "status": "ok",
     "timestamp": 1619286468195,
     "user": {
      "displayName": "Chris Stellato",
      "photoUrl": "",
      "userId": "01766664169170333003"
     },
     "user_tz": 360
    },
    "id": "Ew62j4VO_14F"
   },
   "outputs": [],
   "source": [
    "model = keras.Sequential()\n",
    "model.add(keras.layers.Conv1D(filters=30, kernel_size=3, input_shape=(None, 5)))\n",
    "model.add(keras.layers.LSTM(32, return_sequences=True))\n",
    "model.add(keras.layers.Conv1D(filters=30, kernel_size=3, input_shape=(None, 5)))\n",
    "model.add(keras.layers.LSTM(32, return_sequences=False))\n",
    "model.add(keras.layers.Dense(predict_steps, activation='linear'))\n",
    "model.compile(optimizer='adam',\n",
    "              loss='mse')"
   ]
  },
  {
   "cell_type": "code",
   "execution_count": 181,
   "metadata": {
    "colab": {
     "base_uri": "https://localhost:8080/"
    },
    "executionInfo": {
     "elapsed": 253463,
     "status": "ok",
     "timestamp": 1619286722302,
     "user": {
      "displayName": "Chris Stellato",
      "photoUrl": "",
      "userId": "01766664169170333003"
     },
     "user_tz": 360
    },
    "id": "UpYy-nZQen_0",
    "outputId": "86840794-0caa-43ad-b512-c5f203d3d258"
   },
   "outputs": [
    {
     "name": "stdout",
     "output_type": "stream",
     "text": [
      "Epoch 1/1000\n",
      "138/138 - 5s - loss: 3366.9229 - val_loss: 2568.2202\n",
      "Epoch 2/1000\n",
      "138/138 - 1s - loss: 3094.2065 - val_loss: 2378.4604\n",
      "Epoch 3/1000\n",
      "138/138 - 1s - loss: 2898.8850 - val_loss: 2224.4424\n",
      "Epoch 4/1000\n",
      "138/138 - 1s - loss: 2738.7766 - val_loss: 2095.7671\n",
      "Epoch 5/1000\n",
      "138/138 - 1s - loss: 2602.0452 - val_loss: 1982.0784\n",
      "Epoch 6/1000\n",
      "138/138 - 1s - loss: 2480.1602 - val_loss: 1880.8483\n",
      "Epoch 7/1000\n",
      "138/138 - 1s - loss: 2369.4758 - val_loss: 1790.4999\n",
      "Epoch 8/1000\n",
      "138/138 - 1s - loss: 2268.5676 - val_loss: 1706.3699\n",
      "Epoch 9/1000\n",
      "138/138 - 1s - loss: 2172.2271 - val_loss: 1629.6973\n",
      "Epoch 10/1000\n",
      "138/138 - 1s - loss: 2086.7986 - val_loss: 1556.3309\n",
      "Epoch 11/1000\n",
      "138/138 - 1s - loss: 2004.8335 - val_loss: 1495.5591\n",
      "Epoch 12/1000\n",
      "138/138 - 1s - loss: 1928.6962 - val_loss: 1428.2955\n",
      "Epoch 13/1000\n",
      "138/138 - 1s - loss: 1858.6812 - val_loss: 1368.4866\n",
      "Epoch 14/1000\n",
      "138/138 - 1s - loss: 1789.2926 - val_loss: 1322.7032\n",
      "Epoch 15/1000\n",
      "138/138 - 1s - loss: 1724.0170 - val_loss: 1268.1252\n",
      "Epoch 16/1000\n",
      "138/138 - 1s - loss: 1658.0126 - val_loss: 1219.5045\n",
      "Epoch 17/1000\n",
      "138/138 - 1s - loss: 1598.7335 - val_loss: 1180.6965\n",
      "Epoch 18/1000\n",
      "138/138 - 1s - loss: 1547.2382 - val_loss: 1127.9608\n",
      "Epoch 19/1000\n",
      "138/138 - 1s - loss: 1492.4941 - val_loss: 1082.0957\n",
      "Epoch 20/1000\n",
      "138/138 - 1s - loss: 1440.0586 - val_loss: 1038.0742\n",
      "Epoch 21/1000\n",
      "138/138 - 1s - loss: 1391.2317 - val_loss: 1000.3007\n",
      "Epoch 22/1000\n",
      "138/138 - 1s - loss: 1342.4625 - val_loss: 965.0096\n",
      "Epoch 23/1000\n",
      "138/138 - 1s - loss: 1300.1653 - val_loss: 936.2475\n",
      "Epoch 24/1000\n",
      "138/138 - 1s - loss: 1253.0476 - val_loss: 897.7968\n",
      "Epoch 25/1000\n",
      "138/138 - 1s - loss: 1212.8074 - val_loss: 887.0855\n",
      "Epoch 26/1000\n",
      "138/138 - 1s - loss: 1173.6854 - val_loss: 838.2719\n",
      "Epoch 27/1000\n",
      "138/138 - 1s - loss: 1138.4742 - val_loss: 856.4686\n",
      "Epoch 28/1000\n",
      "138/138 - 1s - loss: 1101.8436 - val_loss: 790.7529\n",
      "Epoch 29/1000\n",
      "138/138 - 1s - loss: 1069.2374 - val_loss: 758.7266\n",
      "Epoch 30/1000\n",
      "138/138 - 1s - loss: 1037.6360 - val_loss: 738.2642\n",
      "Epoch 31/1000\n",
      "138/138 - 1s - loss: 1012.0209 - val_loss: 732.0515\n",
      "Epoch 32/1000\n",
      "138/138 - 1s - loss: 974.3099 - val_loss: 694.2826\n",
      "Epoch 33/1000\n",
      "138/138 - 1s - loss: 945.7839 - val_loss: 667.8776\n",
      "Epoch 34/1000\n",
      "138/138 - 1s - loss: 915.7016 - val_loss: 647.5461\n",
      "Epoch 35/1000\n",
      "138/138 - 1s - loss: 895.4694 - val_loss: 635.0494\n",
      "Epoch 36/1000\n",
      "138/138 - 1s - loss: 869.1149 - val_loss: 589.7197\n",
      "Epoch 37/1000\n",
      "138/138 - 1s - loss: 862.3069 - val_loss: 811.6112\n",
      "Epoch 38/1000\n",
      "138/138 - 2s - loss: 905.9411 - val_loss: 669.4091\n",
      "Epoch 39/1000\n",
      "138/138 - 2s - loss: 845.1951 - val_loss: 614.4252\n",
      "Epoch 40/1000\n",
      "138/138 - 1s - loss: 815.6994 - val_loss: 569.2618\n",
      "Epoch 41/1000\n",
      "138/138 - 2s - loss: 787.4586 - val_loss: 592.5770\n",
      "Epoch 42/1000\n",
      "138/138 - 2s - loss: 761.2136 - val_loss: 626.7646\n",
      "Epoch 43/1000\n",
      "138/138 - 2s - loss: 741.1834 - val_loss: 550.9834\n",
      "Epoch 44/1000\n",
      "138/138 - 2s - loss: 709.8111 - val_loss: 520.6135\n",
      "Epoch 45/1000\n",
      "138/138 - 2s - loss: 696.1256 - val_loss: 510.4570\n",
      "Epoch 46/1000\n",
      "138/138 - 2s - loss: 669.3094 - val_loss: 465.3905\n",
      "Epoch 47/1000\n",
      "138/138 - 1s - loss: 651.2220 - val_loss: 511.6492\n",
      "Epoch 48/1000\n",
      "138/138 - 2s - loss: 653.9442 - val_loss: 485.5146\n",
      "Epoch 49/1000\n",
      "138/138 - 2s - loss: 632.1283 - val_loss: 450.6086\n",
      "Epoch 50/1000\n",
      "138/138 - 2s - loss: 603.4496 - val_loss: 430.0314\n",
      "Epoch 51/1000\n",
      "138/138 - 1s - loss: 582.9301 - val_loss: 442.1201\n",
      "Epoch 52/1000\n",
      "138/138 - 2s - loss: 568.5225 - val_loss: 431.1818\n",
      "Epoch 53/1000\n",
      "138/138 - 2s - loss: 556.8322 - val_loss: 407.9078\n",
      "Epoch 54/1000\n",
      "138/138 - 2s - loss: 555.8031 - val_loss: 408.0974\n",
      "Epoch 55/1000\n",
      "138/138 - 2s - loss: 532.4420 - val_loss: 404.2736\n",
      "Epoch 56/1000\n",
      "138/138 - 2s - loss: 511.8748 - val_loss: 391.4408\n",
      "Epoch 57/1000\n",
      "138/138 - 1s - loss: 503.0981 - val_loss: 374.9066\n",
      "Epoch 58/1000\n",
      "138/138 - 1s - loss: 487.2374 - val_loss: 389.3110\n",
      "Epoch 59/1000\n",
      "138/138 - 2s - loss: 488.4974 - val_loss: 387.6616\n",
      "Epoch 60/1000\n",
      "138/138 - 2s - loss: 487.3223 - val_loss: 423.9576\n",
      "Epoch 61/1000\n",
      "138/138 - 2s - loss: 458.1418 - val_loss: 344.1288\n",
      "Epoch 62/1000\n",
      "138/138 - 1s - loss: 452.2070 - val_loss: 362.9384\n",
      "Epoch 63/1000\n",
      "138/138 - 2s - loss: 442.1940 - val_loss: 365.7390\n",
      "Epoch 64/1000\n",
      "138/138 - 2s - loss: 430.0983 - val_loss: 387.6929\n",
      "Epoch 65/1000\n",
      "138/138 - 2s - loss: 441.7501 - val_loss: 303.8236\n",
      "Epoch 66/1000\n",
      "138/138 - 2s - loss: 420.3857 - val_loss: 350.2593\n",
      "Epoch 67/1000\n",
      "138/138 - 2s - loss: 407.7590 - val_loss: 387.8817\n",
      "Epoch 68/1000\n",
      "138/138 - 2s - loss: 393.6818 - val_loss: 345.0921\n",
      "Epoch 69/1000\n",
      "138/138 - 2s - loss: 387.3847 - val_loss: 347.1947\n",
      "Epoch 70/1000\n",
      "138/138 - 1s - loss: 377.2185 - val_loss: 314.0439\n",
      "Epoch 71/1000\n",
      "138/138 - 2s - loss: 367.7505 - val_loss: 332.8675\n",
      "Epoch 72/1000\n",
      "138/138 - 1s - loss: 367.8932 - val_loss: 324.9689\n",
      "Epoch 73/1000\n",
      "138/138 - 2s - loss: 363.5862 - val_loss: 331.4649\n",
      "Epoch 74/1000\n",
      "138/138 - 1s - loss: 349.1572 - val_loss: 306.3519\n",
      "Epoch 75/1000\n",
      "138/138 - 2s - loss: 343.4757 - val_loss: 321.9231\n",
      "Epoch 76/1000\n",
      "138/138 - 1s - loss: 336.9500 - val_loss: 319.9271\n",
      "Epoch 77/1000\n",
      "138/138 - 1s - loss: 336.5529 - val_loss: 316.0367\n",
      "Epoch 78/1000\n",
      "138/138 - 1s - loss: 332.4586 - val_loss: 378.9588\n",
      "Epoch 79/1000\n",
      "138/138 - 1s - loss: 323.3538 - val_loss: 287.3472\n",
      "Epoch 80/1000\n",
      "138/138 - 1s - loss: 326.7614 - val_loss: 352.4223\n",
      "Epoch 81/1000\n",
      "138/138 - 1s - loss: 413.9912 - val_loss: 940.9265\n",
      "Epoch 82/1000\n",
      "138/138 - 1s - loss: 351.9467 - val_loss: 613.6636\n",
      "Epoch 83/1000\n",
      "138/138 - 1s - loss: 328.6905 - val_loss: 642.1367\n",
      "Epoch 84/1000\n",
      "138/138 - 1s - loss: 311.2125 - val_loss: 607.9324\n",
      "Epoch 85/1000\n",
      "138/138 - 1s - loss: 298.7413 - val_loss: 555.5158\n",
      "Epoch 86/1000\n",
      "138/138 - 1s - loss: 300.1129 - val_loss: 543.0840\n",
      "Epoch 87/1000\n",
      "138/138 - 1s - loss: 324.3686 - val_loss: 423.2299\n",
      "Epoch 88/1000\n",
      "138/138 - 1s - loss: 292.9836 - val_loss: 456.1292\n",
      "Epoch 89/1000\n",
      "138/138 - 1s - loss: 279.4234 - val_loss: 472.6760\n",
      "Epoch 90/1000\n",
      "138/138 - 1s - loss: 276.7651 - val_loss: 529.6351\n",
      "Epoch 91/1000\n",
      "138/138 - 1s - loss: 275.1074 - val_loss: 497.9041\n",
      "Epoch 92/1000\n",
      "138/138 - 1s - loss: 275.8744 - val_loss: 510.2666\n",
      "Epoch 93/1000\n",
      "138/138 - 1s - loss: 263.9764 - val_loss: 478.7910\n",
      "Epoch 94/1000\n",
      "138/138 - 1s - loss: 262.5272 - val_loss: 521.8846\n",
      "Epoch 95/1000\n",
      "138/138 - 1s - loss: 259.8275 - val_loss: 501.4722\n",
      "Epoch 96/1000\n",
      "138/138 - 1s - loss: 262.6643 - val_loss: 426.3591\n",
      "Epoch 97/1000\n",
      "138/138 - 1s - loss: 270.8567 - val_loss: 517.1241\n",
      "Epoch 98/1000\n",
      "138/138 - 1s - loss: 255.5431 - val_loss: 398.3369\n",
      "Epoch 99/1000\n",
      "138/138 - 1s - loss: 250.2654 - val_loss: 503.3833\n",
      "Epoch 100/1000\n",
      "138/138 - 1s - loss: 253.5398 - val_loss: 409.6967\n",
      "Epoch 101/1000\n",
      "138/138 - 1s - loss: 248.4510 - val_loss: 384.7563\n",
      "Epoch 102/1000\n",
      "138/138 - 2s - loss: 242.4673 - val_loss: 472.2428\n",
      "Epoch 103/1000\n",
      "138/138 - 2s - loss: 253.5377 - val_loss: 478.4799\n",
      "Epoch 104/1000\n",
      "138/138 - 2s - loss: 243.1716 - val_loss: 436.1754\n",
      "Epoch 105/1000\n",
      "138/138 - 2s - loss: 246.5113 - val_loss: 498.8256\n",
      "Epoch 106/1000\n",
      "138/138 - 2s - loss: 239.4116 - val_loss: 511.1575\n",
      "Epoch 107/1000\n",
      "138/138 - 2s - loss: 231.1077 - val_loss: 454.1678\n",
      "Epoch 108/1000\n",
      "138/138 - 2s - loss: 231.4676 - val_loss: 358.2625\n",
      "Epoch 109/1000\n",
      "138/138 - 2s - loss: 226.5005 - val_loss: 358.6331\n",
      "Epoch 110/1000\n",
      "138/138 - 2s - loss: 222.7987 - val_loss: 396.6633\n",
      "Epoch 111/1000\n",
      "138/138 - 2s - loss: 218.8493 - val_loss: 381.2139\n",
      "Epoch 112/1000\n",
      "138/138 - 2s - loss: 222.8340 - val_loss: 413.5464\n",
      "Epoch 113/1000\n",
      "138/138 - 1s - loss: 359.4339 - val_loss: 383.2574\n",
      "Epoch 114/1000\n",
      "138/138 - 1s - loss: 332.2240 - val_loss: 263.9374\n",
      "Epoch 115/1000\n",
      "138/138 - 2s - loss: 326.7559 - val_loss: 243.5773\n",
      "Epoch 116/1000\n",
      "138/138 - 2s - loss: 259.8685 - val_loss: 241.7619\n",
      "Epoch 117/1000\n",
      "138/138 - 2s - loss: 250.1010 - val_loss: 178.8636\n",
      "Epoch 118/1000\n",
      "138/138 - 2s - loss: 236.2179 - val_loss: 250.4121\n",
      "Epoch 119/1000\n",
      "138/138 - 2s - loss: 237.7123 - val_loss: 209.8679\n",
      "Epoch 120/1000\n",
      "138/138 - 2s - loss: 222.4146 - val_loss: 234.3166\n",
      "Epoch 121/1000\n",
      "138/138 - 2s - loss: 218.1889 - val_loss: 225.8561\n",
      "Epoch 122/1000\n",
      "138/138 - 2s - loss: 215.4084 - val_loss: 255.2999\n",
      "Epoch 123/1000\n",
      "138/138 - 2s - loss: 213.1023 - val_loss: 262.1848\n",
      "Epoch 124/1000\n",
      "138/138 - 2s - loss: 214.8118 - val_loss: 341.7132\n",
      "Epoch 125/1000\n",
      "138/138 - 2s - loss: 234.8515 - val_loss: 322.2998\n",
      "Epoch 126/1000\n",
      "138/138 - 2s - loss: 225.1189 - val_loss: 347.7700\n",
      "Epoch 127/1000\n",
      "138/138 - 2s - loss: 207.7097 - val_loss: 335.8948\n",
      "Epoch 128/1000\n",
      "138/138 - 2s - loss: 209.7361 - val_loss: 423.1163\n",
      "Epoch 129/1000\n",
      "138/138 - 1s - loss: 202.1896 - val_loss: 384.0628\n",
      "Epoch 130/1000\n",
      "138/138 - 2s - loss: 204.7263 - val_loss: 272.8209\n",
      "Epoch 131/1000\n",
      "138/138 - 2s - loss: 206.2721 - val_loss: 341.1945\n",
      "Epoch 132/1000\n",
      "138/138 - 2s - loss: 222.5897 - val_loss: 379.9428\n",
      "Epoch 133/1000\n",
      "138/138 - 2s - loss: 204.2157 - val_loss: 324.1026\n",
      "Epoch 134/1000\n",
      "138/138 - 2s - loss: 197.8027 - val_loss: 401.3049\n",
      "Epoch 135/1000\n",
      "138/138 - 2s - loss: 195.6795 - val_loss: 467.1595\n",
      "Epoch 136/1000\n",
      "138/138 - 2s - loss: 188.5271 - val_loss: 492.7371\n",
      "Epoch 137/1000\n",
      "138/138 - 2s - loss: 186.8228 - val_loss: 521.6649\n",
      "Epoch 138/1000\n",
      "138/138 - 2s - loss: 193.6053 - val_loss: 429.1037\n",
      "Epoch 139/1000\n",
      "138/138 - 2s - loss: 183.5254 - val_loss: 579.5702\n",
      "Epoch 140/1000\n",
      "138/138 - 2s - loss: 201.5244 - val_loss: 305.6998\n",
      "Epoch 141/1000\n",
      "138/138 - 2s - loss: 192.9077 - val_loss: 406.2027\n",
      "Epoch 142/1000\n",
      "138/138 - 2s - loss: 184.1463 - val_loss: 621.6085\n",
      "Epoch 143/1000\n",
      "138/138 - 2s - loss: 181.1990 - val_loss: 489.0169\n",
      "Epoch 144/1000\n",
      "138/138 - 2s - loss: 178.0642 - val_loss: 484.0764\n",
      "Epoch 145/1000\n",
      "138/138 - 2s - loss: 174.5470 - val_loss: 470.0684\n",
      "Epoch 146/1000\n",
      "138/138 - 2s - loss: 172.8720 - val_loss: 637.8759\n",
      "Epoch 147/1000\n",
      "138/138 - 2s - loss: 177.0153 - val_loss: 502.6641\n",
      "Epoch 148/1000\n",
      "138/138 - 2s - loss: 174.8584 - val_loss: 473.9310\n",
      "Epoch 149/1000\n",
      "138/138 - 2s - loss: 172.1666 - val_loss: 484.9640\n",
      "Epoch 150/1000\n",
      "138/138 - 2s - loss: 166.1987 - val_loss: 481.9106\n",
      "Epoch 151/1000\n",
      "138/138 - 2s - loss: 167.0504 - val_loss: 485.3203\n",
      "Epoch 152/1000\n",
      "138/138 - 2s - loss: 185.5468 - val_loss: 468.6572\n",
      "Epoch 153/1000\n",
      "138/138 - 2s - loss: 174.5269 - val_loss: 518.9387\n",
      "Epoch 154/1000\n",
      "138/138 - 2s - loss: 174.1398 - val_loss: 413.4281\n",
      "Epoch 155/1000\n",
      "138/138 - 2s - loss: 178.6148 - val_loss: 558.8568\n",
      "Epoch 156/1000\n",
      "138/138 - 2s - loss: 163.3862 - val_loss: 572.3887\n",
      "Epoch 157/1000\n",
      "138/138 - 2s - loss: 176.1398 - val_loss: 594.6177\n",
      "Epoch 158/1000\n",
      "138/138 - 2s - loss: 173.2080 - val_loss: 554.8199\n",
      "Epoch 159/1000\n",
      "138/138 - 2s - loss: 160.7251 - val_loss: 611.2807\n",
      "Epoch 160/1000\n",
      "138/138 - 2s - loss: 154.3016 - val_loss: 652.0665\n",
      "Epoch 161/1000\n",
      "138/138 - 2s - loss: 152.4966 - val_loss: 620.2272\n",
      "Epoch 162/1000\n",
      "138/138 - 2s - loss: 152.4704 - val_loss: 604.8633\n",
      "Epoch 163/1000\n",
      "138/138 - 2s - loss: 151.1628 - val_loss: 520.4708\n",
      "Epoch 164/1000\n",
      "138/138 - 2s - loss: 156.2624 - val_loss: 470.7218\n",
      "Epoch 165/1000\n",
      "138/138 - 2s - loss: 167.5421 - val_loss: 483.9661\n",
      "Epoch 166/1000\n",
      "138/138 - 2s - loss: 164.8688 - val_loss: 490.5022\n",
      "Epoch 167/1000\n",
      "138/138 - 2s - loss: 149.4714 - val_loss: 463.4596\n",
      "Restoring model weights from the end of the best epoch.\n",
      "Epoch 00167: early stopping\n"
     ]
    }
   ],
   "source": [
    "history = model.fit(X_train, y_train, batch_size=32, epochs=1000, validation_split=0.2, verbose=2, callbacks=[callback])\n",
    "model.save('LSTM_v13.h5')"
   ]
  },
  {
   "cell_type": "code",
   "execution_count": 182,
   "metadata": {
    "executionInfo": {
     "elapsed": 1141,
     "status": "ok",
     "timestamp": 1619286890497,
     "user": {
      "displayName": "Chris Stellato",
      "photoUrl": "",
      "userId": "01766664169170333003"
     },
     "user_tz": 360
    },
    "id": "HtvIUHLnen_5"
   },
   "outputs": [],
   "source": [
    "y_pred = model.predict(X_test)"
   ]
  },
  {
   "cell_type": "code",
   "execution_count": 183,
   "metadata": {
    "colab": {
     "base_uri": "https://localhost:8080/"
    },
    "executionInfo": {
     "elapsed": 633,
     "status": "ok",
     "timestamp": 1619286894655,
     "user": {
      "displayName": "Chris Stellato",
      "photoUrl": "",
      "userId": "01766664169170333003"
     },
     "user_tz": 360
    },
    "id": "VXJN-_77kAYj",
    "outputId": "34dee09f-63ee-49ae-ba99-d2d1460b43b1"
   },
   "outputs": [
    {
     "data": {
      "text/plain": [
       "35.6514"
      ]
     },
     "execution_count": 183,
     "metadata": {
      "tags": []
     },
     "output_type": "execute_result"
    }
   ],
   "source": [
    "from keras.metrics import MeanAbsolutePercentageError\n",
    "mape = tf.keras.metrics.MeanAbsolutePercentageError()\n",
    "mape.update_state(y_test, y_pred)\n",
    "mape.result().numpy()"
   ]
  },
  {
   "cell_type": "code",
   "execution_count": 184,
   "metadata": {
    "colab": {
     "base_uri": "https://localhost:8080/"
    },
    "executionInfo": {
     "elapsed": 278,
     "status": "ok",
     "timestamp": 1619286895958,
     "user": {
      "displayName": "Chris Stellato",
      "photoUrl": "",
      "userId": "01766664169170333003"
     },
     "user_tz": 360
    },
    "id": "9tJi37TrkCyS",
    "outputId": "841df62a-1654-4acb-a430-b94e21098eec"
   },
   "outputs": [
    {
     "data": {
      "text/plain": [
       "14.08067363188518"
      ]
     },
     "execution_count": 184,
     "metadata": {
      "tags": []
     },
     "output_type": "execute_result"
    }
   ],
   "source": [
    "#RMSE\n",
    "sqrt(mean_squared_error(y_test, y_pred))"
   ]
  },
  {
   "cell_type": "code",
   "execution_count": 257,
   "metadata": {
    "executionInfo": {
     "elapsed": 238,
     "status": "ok",
     "timestamp": 1619227077832,
     "user": {
      "displayName": "Chris Stellato",
      "photoUrl": "",
      "userId": "01766664169170333003"
     },
     "user_tz": 360
    },
    "id": "mZWaELnQkDOC"
   },
   "outputs": [],
   "source": [
    "# model.save('LSTM_v8.h5')"
   ]
  },
  {
   "cell_type": "code",
   "execution_count": null,
   "metadata": {
    "id": "qX7r6dRlkDh7"
   },
   "outputs": [],
   "source": []
  },
  {
   "cell_type": "code",
   "execution_count": null,
   "metadata": {
    "id": "X1z65qLRkD1v"
   },
   "outputs": [],
   "source": []
  },
  {
   "cell_type": "code",
   "execution_count": 99,
   "metadata": {
    "executionInfo": {
     "elapsed": 455,
     "status": "ok",
     "timestamp": 1619278794052,
     "user": {
      "displayName": "Chris Stellato",
      "photoUrl": "",
      "userId": "01766664169170333003"
     },
     "user_tz": 360
    },
    "id": "xnZXVaJjen_5"
   },
   "outputs": [],
   "source": [
    "# y_pred"
   ]
  },
  {
   "cell_type": "code",
   "execution_count": 100,
   "metadata": {
    "executionInfo": {
     "elapsed": 214,
     "status": "ok",
     "timestamp": 1619278794208,
     "user": {
      "displayName": "Chris Stellato",
      "photoUrl": "",
      "userId": "01766664169170333003"
     },
     "user_tz": 360
    },
    "id": "HWVfztvfen_6"
   },
   "outputs": [],
   "source": [
    "# X, X_train, X_test"
   ]
  },
  {
   "cell_type": "code",
   "execution_count": 101,
   "metadata": {
    "executionInfo": {
     "elapsed": 704,
     "status": "ok",
     "timestamp": 1619278798476,
     "user": {
      "displayName": "Chris Stellato",
      "photoUrl": "",
      "userId": "01766664169170333003"
     },
     "user_tz": 360
    },
    "id": "MexGOdelen_6"
   },
   "outputs": [],
   "source": [
    "# y, y_train, y_test"
   ]
  },
  {
   "cell_type": "code",
   "execution_count": 102,
   "metadata": {
    "executionInfo": {
     "elapsed": 324,
     "status": "ok",
     "timestamp": 1619278802425,
     "user": {
      "displayName": "Chris Stellato",
      "photoUrl": "",
      "userId": "01766664169170333003"
     },
     "user_tz": 360
    },
    "id": "DcyR-69Ben_7"
   },
   "outputs": [],
   "source": [
    "# y_test, y_pred"
   ]
  },
  {
   "cell_type": "code",
   "execution_count": null,
   "metadata": {
    "id": "HCOSVBfOen_7"
   },
   "outputs": [],
   "source": []
  }
 ],
 "metadata": {
  "accelerator": "GPU",
  "colab": {
   "name": "Google_Colab_LSTM_model.ipynb",
   "provenance": []
  },
  "kernelspec": {
   "display_name": "Python 3",
   "language": "python",
   "name": "python3"
  },
  "language_info": {
   "codemirror_mode": {
    "name": "ipython",
    "version": 3
   },
   "file_extension": ".py",
   "mimetype": "text/x-python",
   "name": "python",
   "nbconvert_exporter": "python",
   "pygments_lexer": "ipython3",
   "version": "3.7.7"
  }
 },
 "nbformat": 4,
 "nbformat_minor": 4
}
