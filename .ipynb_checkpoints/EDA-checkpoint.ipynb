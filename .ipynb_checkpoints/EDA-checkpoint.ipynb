{
 "cells": [
  {
   "cell_type": "code",
   "execution_count": 1,
   "metadata": {},
   "outputs": [],
   "source": [
    "import pandas as pd"
   ]
  },
  {
   "cell_type": "code",
   "execution_count": 5,
   "metadata": {},
   "outputs": [],
   "source": [
    "sno_df = pd.read_csv('data/Hoosier_pass_SNOTEL_1980-2021.csv')"
   ]
  },
  {
   "cell_type": "code",
   "execution_count": 13,
   "metadata": {},
   "outputs": [],
   "source": [
    "sno_df['datetime'] = pd.to_datetime(sno_df['Date'])"
   ]
  },
  {
   "cell_type": "code",
   "execution_count": 16,
   "metadata": {},
   "outputs": [],
   "source": [
    "sno_df.set_index('datetime', inplace=True)"
   ]
  },
  {
   "cell_type": "code",
   "execution_count": 17,
   "metadata": {},
   "outputs": [
    {
     "name": "stdout",
     "output_type": "stream",
     "text": [
      "<class 'pandas.core.frame.DataFrame'>\n",
      "DatetimeIndex: 14873 entries, 1980-07-31 to 2021-04-19\n",
      "Data columns (total 7 columns):\n",
      " #   Column                                               Non-Null Count  Dtype  \n",
      "---  ------                                               --------------  -----  \n",
      " 0   Date                                                 14873 non-null  object \n",
      " 1   Snow Water Equivalent (in) Start of Day Values       14873 non-null  float64\n",
      " 2   Precipitation Accumulation (in) Start of Day Values  14853 non-null  float64\n",
      " 3   Air Temperature Maximum (degF)                       12796 non-null  float64\n",
      " 4   Air Temperature Minimum (degF)                       12770 non-null  float64\n",
      " 5   Air Temperature Average (degF)                       12787 non-null  float64\n",
      " 6   Precipitation Increment (in)                         14849 non-null  float64\n",
      "dtypes: float64(6), object(1)\n",
      "memory usage: 929.6+ KB\n"
     ]
    }
   ],
   "source": [
    "sno_df.info()"
   ]
  },
  {
   "cell_type": "code",
   "execution_count": 19,
   "metadata": {},
   "outputs": [],
   "source": [
    "sno_df = sno_df['1990':'2021']"
   ]
  },
  {
   "cell_type": "code",
   "execution_count": null,
   "metadata": {},
   "outputs": [],
   "source": []
  }
 ],
 "metadata": {
  "kernelspec": {
   "display_name": "Python 3",
   "language": "python",
   "name": "python3"
  },
  "language_info": {
   "codemirror_mode": {
    "name": "ipython",
    "version": 3
   },
   "file_extension": ".py",
   "mimetype": "text/x-python",
   "name": "python",
   "nbconvert_exporter": "python",
   "pygments_lexer": "ipython3",
   "version": "3.7.7"
  }
 },
 "nbformat": 4,
 "nbformat_minor": 4
}
